{
 "cells": [
  {
   "cell_type": "code",
   "execution_count": 2,
   "metadata": {},
   "outputs": [],
   "source": [
    "import json\n",
    "import os\n",
    "import re "
   ]
  },
  {
   "cell_type": "code",
   "execution_count": 3,
   "metadata": {},
   "outputs": [],
   "source": [
    "def remove_brackets(data):\n",
    "    bracket_items = []\n",
    "    for index in range(len(data)):\n",
    "        brackets = re.findall('\\[.*?\\]', data[index][\"text\"])\n",
    "        if len(brackets) != 0:\n",
    "            bracket_items += brackets\n",
    "    bracket_items = set(bracket_items)\n",
    "\n",
    "    for index in range(len(data)):\n",
    "        for bracket_item in bracket_items:\n",
    "            if bracket_item in data[index][\"text\"]:\n",
    "                data[index][\"text\"] = data[index][\"text\"].replace(bracket_item, \"\")\n",
    "        data[index][\"text\"] = data[index][\"text\"].strip()\n",
    "        \n",
    "    return data\n",
    "\n",
    "def clean_generated_data(data):\n",
    "    data = remove_brackets(data)\n",
    "\n",
    "    for index in range(len(data)):\n",
    "        example = dict(data[index])\n",
    "        if \"generated_raw\" in example:\n",
    "            del example[\"generated_raw\"]        \n",
    "        if \"id\" not in example:\n",
    "            example[\"id\"] = \"generated\"\n",
    "        data[index] = example\n",
    "\n",
    "    for index in range(len(data)):\n",
    "        if \": \" in data[index][\"text\"]:\n",
    "            data[index][\"text\"] = data[index][\"text\"].replace(\": \", \"\")\n",
    "        data[index][\"text\"] = data[index][\"text\"].strip()\n",
    "\n",
    "    return data\n",
    "\n",
    "plutchik = [\"anger\", \"fear\", \"sadness\", \"disgust\", \"anticipation\", \"trust\", \"joy\"]\n",
    "\n",
    "def get_emotion_counts(data):\n",
    "\n",
    "    emotion_counts = {}\n",
    "    for emotion in plutchik:\n",
    "        emotion_counts[emotion] = 0\n",
    "    for example in data:\n",
    "        emotion_counts[example[\"choice\"]] += 1\n",
    "    \n",
    "    return emotion_counts\n",
    "\n",
    "def get_duplicates(data):\n",
    "    duplicates = []\n",
    "    for i in range(len(data)):\n",
    "        for j in range(i+1, len(data)):\n",
    "            if data[i] == data[j]:\n",
    "                duplicates.append((i,j))    \n",
    "\n",
    "def remove_duplicates(data):\n",
    "    return [dict(t) for t in {tuple(d.items()) for d in data}]"
   ]
  },
  {
   "cell_type": "code",
   "execution_count": 9,
   "metadata": {},
   "outputs": [
    {
     "name": "stdout",
     "output_type": "stream",
     "text": [
      "5226\n",
      "4946\n"
     ]
    }
   ],
   "source": [
    "full_data = json.load(open(\"../data/english/full_data.json\", \"r\"))\n",
    "\n",
    "new_examples = []\n",
    "for folder in os.listdir(\"../data/english/\"):\n",
    "    if \"process_id\" in folder:\n",
    "        new_examples += json.load(open(os.path.join(\"../data/english/\", folder), \"r\"))\n",
    "\n",
    "cleaned_new_examples = clean_generated_data(new_examples)\n",
    "full_data += cleaned_new_examples\n",
    "full_data = clean_generated_data(full_data)\n",
    "print(len(full_data))\n",
    "full_data = remove_duplicates(full_data)\n",
    "print(len(full_data))"
   ]
  },
  {
   "cell_type": "code",
   "execution_count": 10,
   "metadata": {},
   "outputs": [
    {
     "data": {
      "text/plain": [
       "{'anger': 708,\n",
       " 'fear': 704,\n",
       " 'sadness': 702,\n",
       " 'disgust': 707,\n",
       " 'anticipation': 709,\n",
       " 'trust': 707,\n",
       " 'joy': 709}"
      ]
     },
     "execution_count": 10,
     "metadata": {},
     "output_type": "execute_result"
    }
   ],
   "source": [
    "get_emotion_counts(full_data)"
   ]
  },
  {
   "cell_type": "code",
   "execution_count": 7,
   "metadata": {},
   "outputs": [],
   "source": [
    "json.dump(full_data, open(\"../data/english/full_data.json\", \"w\"), indent=4)"
   ]
  }
 ],
 "metadata": {
  "kernelspec": {
   "display_name": "Python 3",
   "language": "python",
   "name": "python3"
  },
  "language_info": {
   "codemirror_mode": {
    "name": "ipython",
    "version": 3
   },
   "file_extension": ".py",
   "mimetype": "text/x-python",
   "name": "python",
   "nbconvert_exporter": "python",
   "pygments_lexer": "ipython3",
   "version": "3.7.8"
  }
 },
 "nbformat": 4,
 "nbformat_minor": 2
}
