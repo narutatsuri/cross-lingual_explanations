{
 "cells": [
  {
   "cell_type": "code",
   "execution_count": 70,
   "metadata": {},
   "outputs": [],
   "source": [
    "import json\n",
    "import pandas as pd\n",
    "import os\n",
    "import random\n",
    "import itertools\n",
    "\n",
    "SENTIMENT_DATA_DIR = \"../data/sentiment_explanation\""
   ]
  },
  {
   "cell_type": "code",
   "execution_count": 67,
   "metadata": {},
   "outputs": [
    {
     "data": {
      "text/plain": [
       "3"
      ]
     },
     "execution_count": 67,
     "metadata": {},
     "output_type": "execute_result"
    }
   ],
   "source": [
    "import os, json\n",
    "\n",
    "combined_data = []\n",
    "for file in os.listdir(\"../data/sentiment_explanation/\"):\n",
    "    if \"process_id\" in file:\n",
    "        filename = os.path.join(\"../data/sentiment_explanation/\", file)\n",
    "        data = json.load( open(filename, \"r\")  )\n",
    "\n",
    "        combined_data += data\n",
    "len(combined_data)\n",
    "\n",
    "old_data = json.load(open(\"../data/sentiment_explanation/train_with_summaries_with_explanations.json\", \"r\"))\n",
    "json.dump(old_data + combined_data, fp=open(\"../data/sentiment_explanation/train_with_summaries_with_explanations.json\", \"w\"),indent=4, default=set_default)"
   ]
  },
  {
   "cell_type": "code",
   "execution_count": 5,
   "metadata": {},
   "outputs": [],
   "source": [
    "def set_default(obj):\n",
    "    if isinstance(obj, set):\n",
    "        return list(obj)\n",
    "    raise TypeError\n"
   ]
  },
  {
   "cell_type": "code",
   "execution_count": 71,
   "metadata": {},
   "outputs": [],
   "source": [
    "explanation_data = json.load( open(os.path.join(SENTIMENT_DATA_DIR, \"train_with_summaries_with_explanations.json\"), \"r\")  )\n"
   ]
  },
  {
   "cell_type": "code",
   "execution_count": 105,
   "metadata": {},
   "outputs": [],
   "source": [
    "plutchik = [\"anger\", \"fear\", \"sadness\", \"disgust\", \"surprise\", \"anticipation\", \"trust\", \"joy\"]\n",
    "cleaned_explanation_data = []\n",
    "\n",
    "for i in explanation_data:\n",
    "    new_dict = dict(i)\n",
    "    if \"[CHOICE]\" in new_dict[\"choice\"]:\n",
    "        new_dict[\"choice\"] = new_dict[\"choice\"].split(\"[CHOICE]:\")[-1].strip().lower()\n",
    "    elif \"[choices]\" in new_dict[\"choice\"]:\n",
    "        new_dict[\"choice\"] = new_dict[\"choice\"].split(\"[choices]:\")[-1].strip().lower()\n",
    "    elif \"[CHOICES]\" in new_dict[\"choice\"]:\n",
    "        new_dict[\"choice\"] = new_dict[\"choice\"].split(\"[CHOICES]:\")[-1].strip().lower()\n",
    "\n",
    "    if new_dict[\"choice\"] in plutchik:\n",
    "        del new_dict[\"raw_response\"], new_dict[\"choices\"], new_dict[\"text\"]\n",
    "        new_dict[\"text\"] = new_dict[\"summary\"]\n",
    "        del new_dict[\"summary\"]\n",
    "        cleaned_explanation_data.append(new_dict)"
   ]
  },
  {
   "cell_type": "code",
   "execution_count": 109,
   "metadata": {},
   "outputs": [],
   "source": [
    "json.dump(cleaned_explanation_data, fp=open(\"../data/sentiment_explanation/train_formatted.json\", \"w\"),indent=4, default=set_default)"
   ]
  },
  {
   "cell_type": "code",
   "execution_count": 98,
   "metadata": {},
   "outputs": [],
   "source": [
    "plutchik = [\"anger\", \"fear\", \"sadness\", \"disgust\", \"surprise\", \"anticipation\", \"trust\", \"joy\"]"
   ]
  },
  {
   "cell_type": "code",
   "execution_count": 182,
   "metadata": {},
   "outputs": [
    {
     "data": {
      "application/vnd.plotly.v1+json": {
       "config": {
        "plotlyServerURL": "https://plot.ly"
       },
       "data": [
        {
         "alignmentgroup": "True",
         "bingroup": "x",
         "hovertemplate": "variable=0<br>value=%{x}<br>count=%{y}<extra></extra>",
         "legendgroup": "0",
         "marker": {
          "color": "#636efa",
          "pattern": {
           "shape": ""
          }
         },
         "name": "0",
         "offsetgroup": "0",
         "orientation": "v",
         "showlegend": true,
         "type": "histogram",
         "x": [
          "trust",
          "anger",
          "joy",
          "fear",
          "fear",
          "anger",
          "fear",
          "sadness",
          "fear",
          "fear",
          "fear",
          "sadness",
          "anger",
          "fear",
          "fear",
          "fear",
          "anticipation",
          "anticipation",
          "fear",
          "fear",
          "fear",
          "fear",
          "fear",
          "fear",
          "sadness",
          "anticipation",
          "fear",
          "anger",
          "fear",
          "sadness",
          "fear",
          "fear",
          "anger",
          "sadness",
          "fear",
          "sadness",
          "fear",
          "fear",
          "sadness",
          "joy",
          "anticipation",
          "fear",
          "sadness",
          "sadness",
          "sadness",
          "sadness",
          "anticipation",
          "fear",
          "trust",
          "anger",
          "joy",
          "fear",
          "fear",
          "anger",
          "fear",
          "sadness",
          "fear",
          "fear",
          "fear",
          "sadness",
          "anger",
          "fear",
          "fear",
          "fear",
          "anticipation",
          "anticipation",
          "fear",
          "fear",
          "fear",
          "fear",
          "fear",
          "fear",
          "sadness",
          "anticipation",
          "fear",
          "anger",
          "fear",
          "sadness",
          "fear",
          "fear",
          "anger",
          "sadness",
          "fear",
          "sadness",
          "fear",
          "fear",
          "sadness",
          "joy",
          "anticipation",
          "fear",
          "sadness",
          "sadness",
          "sadness",
          "sadness",
          "anticipation",
          "fear",
          "fear",
          "fear",
          "fear",
          "anger",
          "anger",
          "trust",
          "anticipation",
          "anticipation",
          "anticipation",
          "fear",
          "anger",
          "fear",
          "sadness",
          "joy",
          "fear",
          "anger",
          "anticipation",
          "fear",
          "joy",
          "anticipation",
          "anger",
          "fear",
          "sadness",
          "fear",
          "sadness",
          "fear",
          "anticipation",
          "sadness",
          "fear",
          "fear",
          "fear",
          "fear",
          "anger",
          "sadness",
          "fear",
          "sadness",
          "fear",
          "fear",
          "sadness",
          "fear",
          "anger",
          "anger",
          "fear",
          "anger",
          "anticipation",
          "fear",
          "sadness",
          "anticipation",
          "fear",
          "anticipation",
          "fear",
          "fear",
          "fear",
          "anger",
          "fear",
          "fear",
          "sadness",
          "anticipation",
          "disgust",
          "sadness",
          "fear",
          "fear",
          "anticipation",
          "fear",
          "fear",
          "sadness",
          "fear",
          "joy",
          "fear",
          "anticipation",
          "fear",
          "fear",
          "fear",
          "fear",
          "fear",
          "trust",
          "joy",
          "disgust",
          "fear",
          "anticipation",
          "fear",
          "fear",
          "anticipation",
          "fear",
          "anger",
          "fear",
          "disgust",
          "fear",
          "anticipation",
          "fear",
          "fear",
          "fear",
          "fear",
          "fear",
          "fear",
          "disgust",
          "sadness",
          "fear",
          "joy",
          "anticipation",
          "anticipation",
          "anticipation",
          "fear",
          "sadness",
          "fear",
          "fear",
          "fear",
          "sadness",
          "anticipation",
          "fear",
          "fear",
          "anger",
          "anticipation",
          "fear",
          "fear",
          "fear",
          "anger",
          "anticipation",
          "sadness",
          "sadness",
          "sadness",
          "fear",
          "fear",
          "anticipation",
          "fear",
          "fear",
          "sadness",
          "fear",
          "fear",
          "fear",
          "fear",
          "fear",
          "fear",
          "fear",
          "fear",
          "fear",
          "sadness",
          "sadness",
          "fear",
          "anticipation",
          "fear",
          "sadness",
          "anticipation",
          "fear",
          "sadness",
          "anticipation",
          "fear",
          "fear",
          "fear",
          "anger",
          "anticipation",
          "sadness",
          "joy",
          "sadness",
          "anger",
          "fear",
          "anticipation",
          "sadness",
          "fear",
          "sadness",
          "sadness",
          "fear",
          "anticipation",
          "fear",
          "fear",
          "fear",
          "sadness",
          "fear",
          "sadness",
          "fear",
          "fear",
          "fear",
          "sadness",
          "sadness",
          "fear",
          "fear",
          "fear",
          "fear",
          "fear",
          "anticipation",
          "fear",
          "fear",
          "fear",
          "anger",
          "anticipation",
          "sadness",
          "fear",
          "fear",
          "sadness",
          "anticipation",
          "fear",
          "fear",
          "fear",
          "sadness",
          "fear",
          "fear",
          "sadness",
          "disgust",
          "fear",
          "anticipation",
          "trust",
          "anticipation",
          "fear",
          "fear",
          "fear",
          "fear",
          "anticipation",
          "joy",
          "anticipation",
          "anticipation",
          "fear",
          "fear",
          "fear",
          "fear",
          "fear",
          "sadness",
          "sadness",
          "fear",
          "anger",
          "anticipation",
          "anticipation",
          "anticipation",
          "fear",
          "fear",
          "sadness",
          "fear",
          "fear",
          "anticipation",
          "fear",
          "sadness",
          "anticipation",
          "fear",
          "fear",
          "fear",
          "fear",
          "fear",
          "fear",
          "fear",
          "sadness",
          "sadness",
          "fear",
          "fear",
          "fear",
          "fear",
          "sadness",
          "anticipation",
          "sadness",
          "fear",
          "sadness",
          "sadness",
          "fear",
          "fear",
          "fear",
          "fear",
          "sadness",
          "sadness",
          "fear",
          "sadness",
          "fear",
          "fear",
          "fear",
          "fear",
          "sadness",
          "anger",
          "sadness",
          "fear",
          "fear",
          "fear",
          "fear",
          "anticipation",
          "fear",
          "fear",
          "sadness",
          "anger",
          "anticipation",
          "fear",
          "joy",
          "fear",
          "sadness",
          "fear",
          "anticipation",
          "fear",
          "fear",
          "anticipation",
          "fear",
          "fear",
          "anger",
          "fear",
          "fear",
          "anger",
          "disgust",
          "anticipation",
          "fear",
          "anger",
          "fear",
          "sadness",
          "fear",
          "anticipation",
          "anger",
          "joy",
          "fear",
          "sadness",
          "fear",
          "sadness",
          "anger",
          "fear",
          "anger",
          "sadness",
          "fear",
          "fear",
          "anticipation",
          "anger",
          "fear",
          "trust",
          "anger",
          "sadness",
          "fear",
          "sadness",
          "anticipation",
          "fear",
          "sadness",
          "anticipation",
          "fear",
          "fear",
          "fear",
          "sadness",
          "fear",
          "fear",
          "anger",
          "fear",
          "sadness",
          "fear",
          "sadness",
          "fear",
          "sadness",
          "fear",
          "fear",
          "fear",
          "fear",
          "anticipation",
          "fear",
          "fear",
          "sadness",
          "fear",
          "sadness",
          "fear",
          "fear",
          "trust",
          "anticipation",
          "anger",
          "fear",
          "sadness",
          "anticipation",
          "anticipation",
          "fear",
          "fear",
          "fear",
          "sadness",
          "sadness",
          "sadness",
          "sadness",
          "fear",
          "sadness",
          "fear",
          "anger",
          "fear",
          "sadness",
          "anticipation",
          "fear",
          "anticipation",
          "fear",
          "fear",
          "sadness",
          "fear",
          "fear",
          "anticipation",
          "trust",
          "fear",
          "fear",
          "fear",
          "sadness",
          "sadness",
          "sadness",
          "fear",
          "anticipation",
          "anger",
          "fear",
          "fear",
          "fear",
          "fear",
          "anticipation",
          "fear",
          "anticipation",
          "sadness",
          "anger",
          "fear",
          "anger",
          "anger",
          "sadness",
          "anticipation",
          "sadness",
          "sadness",
          "sadness",
          "fear",
          "fear",
          "fear",
          "fear",
          "fear",
          "anger",
          "sadness",
          "anticipation",
          "anticipation",
          "anger",
          "joy",
          "anger",
          "fear",
          "fear",
          "fear",
          "anticipation",
          "fear",
          "fear",
          "fear",
          "fear",
          "anticipation",
          "fear",
          "fear",
          "anticipation",
          "fear",
          "fear",
          "fear",
          "sadness",
          "anticipation",
          "fear",
          "trust",
          "sadness",
          "fear",
          "fear",
          "fear",
          "fear",
          "anticipation",
          "anticipation",
          "sadness",
          "fear",
          "fear",
          "fear",
          "fear",
          "sadness",
          "sadness",
          "anticipation",
          "fear",
          "fear",
          "sadness",
          "fear",
          "fear",
          "anticipation",
          "fear",
          "fear",
          "anger",
          "sadness",
          "sadness",
          "fear",
          "anger",
          "joy",
          "fear",
          "fear",
          "anger",
          "fear",
          "fear",
          "sadness",
          "sadness",
          "fear",
          "sadness",
          "fear",
          "fear",
          "fear",
          "fear",
          "anger",
          "fear",
          "fear",
          "fear",
          "fear",
          "fear",
          "fear",
          "fear",
          "fear",
          "anger",
          "sadness",
          "fear",
          "fear",
          "anticipation",
          "anticipation",
          "fear",
          "fear",
          "fear",
          "fear",
          "sadness",
          "anticipation",
          "sadness",
          "fear",
          "fear",
          "fear",
          "fear",
          "fear",
          "fear",
          "fear",
          "anticipation",
          "fear",
          "fear",
          "fear",
          "anticipation",
          "fear",
          "sadness",
          "anticipation",
          "sadness",
          "fear",
          "fear",
          "anger",
          "fear",
          "sadness",
          "fear",
          "fear",
          "fear",
          "anticipation",
          "fear",
          "anticipation",
          "anger",
          "fear",
          "fear",
          "anger",
          "anticipation",
          "fear",
          "anticipation",
          "fear",
          "sadness",
          "fear",
          "fear",
          "joy",
          "fear",
          "fear",
          "fear",
          "sadness",
          "anticipation",
          "joy",
          "fear",
          "anticipation",
          "sadness",
          "fear",
          "sadness",
          "fear",
          "anticipation",
          "sadness",
          "fear",
          "sadness",
          "fear",
          "sadness",
          "fear",
          "fear",
          "fear",
          "fear",
          "anger",
          "anger",
          "anticipation",
          "disgust",
          "anticipation",
          "fear",
          "joy",
          "fear",
          "anticipation",
          "fear",
          "fear",
          "joy",
          "fear",
          "anticipation",
          "anticipation",
          "fear",
          "fear",
          "sadness",
          "fear",
          "fear",
          "sadness",
          "fear",
          "fear",
          "fear",
          "fear",
          "fear",
          "fear",
          "sadness",
          "fear",
          "fear",
          "fear",
          "fear",
          "anticipation",
          "fear",
          "fear",
          "anticipation",
          "fear",
          "anger",
          "fear",
          "anticipation",
          "fear",
          "anticipation",
          "anticipation",
          "sadness",
          "sadness",
          "fear",
          "fear",
          "fear",
          "fear",
          "anticipation",
          "fear",
          "sadness",
          "anticipation",
          "anger",
          "fear",
          "anticipation",
          "sadness",
          "fear",
          "fear",
          "fear",
          "fear",
          "anticipation",
          "sadness",
          "anticipation",
          "fear",
          "fear",
          "trust",
          "fear",
          "fear",
          "anticipation",
          "fear",
          "sadness",
          "fear",
          "fear",
          "fear",
          "fear",
          "anger",
          "anger",
          "fear",
          "anticipation",
          "fear",
          "anger",
          "sadness",
          "fear",
          "sadness",
          "fear",
          "sadness",
          "sadness",
          "fear",
          "sadness",
          "anticipation",
          "fear",
          "fear",
          "anticipation",
          "fear",
          "fear",
          "fear",
          "fear",
          "fear",
          "fear",
          "fear",
          "sadness",
          "fear",
          "sadness",
          "anticipation",
          "fear",
          "fear",
          "anticipation",
          "fear",
          "fear",
          "fear",
          "fear",
          "fear",
          "fear",
          "fear",
          "fear",
          "fear",
          "fear",
          "anticipation",
          "fear",
          "fear",
          "fear",
          "fear",
          "fear",
          "fear",
          "fear",
          "fear",
          "fear",
          "fear",
          "joy",
          "joy",
          "joy",
          "joy",
          "joy",
          "joy",
          "joy",
          "joy",
          "joy",
          "joy",
          "joy",
          "joy",
          "joy",
          "joy",
          "joy",
          "joy",
          "joy",
          "joy",
          "joy",
          "joy",
          "joy",
          "disgust",
          "disgust",
          "disgust",
          "disgust",
          "disgust",
          "disgust",
          "disgust",
          "anger",
          "anger",
          "anger",
          "anger",
          "anger",
          "anger",
          "anger",
          "anger",
          "anger",
          "anger",
          "anger",
          "anger",
          "anger",
          "anger",
          "anger",
          "anger",
          "anger",
          "anger",
          "anger",
          "anger",
          "anger",
          "anger",
          "anger",
          "anger",
          "anger",
          "anger",
          "anger",
          "anger",
          "anger",
          "anger",
          "anger",
          "anger",
          "anger",
          "anger",
          "anger",
          "anger",
          "anger",
          "anger",
          "anger",
          "anger",
          "anger",
          "anger",
          "anger",
          "disgust",
          "disgust",
          "disgust",
          "disgust",
          "disgust",
          "disgust",
          "disgust",
          "disgust",
          "disgust",
          "disgust",
          "disgust",
          "disgust",
          "disgust",
          "disgust",
          "disgust",
          "disgust",
          "disgust",
          "disgust",
          "disgust",
          "disgust",
          "disgust",
          "disgust",
          "disgust",
          "disgust",
          "disgust",
          "disgust",
          "disgust",
          "disgust",
          "disgust",
          "disgust",
          "disgust",
          "disgust",
          "disgust",
          "disgust",
          "disgust",
          "disgust",
          "disgust",
          "disgust",
          "disgust",
          "disgust",
          "disgust",
          "disgust",
          "disgust",
          "disgust",
          "disgust",
          "disgust",
          "disgust",
          "disgust",
          "disgust",
          "disgust",
          "disgust",
          "disgust",
          "disgust",
          "disgust",
          "disgust",
          "disgust",
          "disgust",
          "disgust",
          "disgust",
          "disgust",
          "disgust",
          "disgust",
          "disgust",
          "disgust",
          "disgust",
          "disgust",
          "disgust",
          "disgust",
          "disgust",
          "disgust",
          "disgust",
          "disgust",
          "disgust",
          "disgust",
          "disgust",
          "disgust",
          "disgust",
          "disgust",
          "disgust",
          "disgust",
          "disgust",
          "disgust",
          "disgust",
          "disgust",
          "disgust",
          "disgust",
          "disgust",
          "disgust",
          "disgust",
          "disgust",
          "anger",
          "anger",
          "disgust",
          "disgust",
          "disgust",
          "disgust",
          "disgust",
          "disgust",
          "disgust",
          "trust",
          "trust",
          "trust",
          "trust",
          "trust",
          "trust",
          "trust",
          "trust",
          "trust",
          "anger",
          "anger",
          "disgust",
          "disgust",
          "disgust",
          "trust",
          "trust",
          "trust",
          "trust",
          "trust",
          "trust",
          "anger",
          "anger",
          "disgust",
          "disgust",
          "disgust",
          "disgust",
          "disgust",
          "trust",
          "trust",
          "trust",
          "trust",
          "trust",
          "trust",
          "trust",
          "anger",
          "trust",
          "trust",
          "trust",
          "trust",
          "trust",
          "trust",
          "anger",
          "anger",
          "disgust",
          "disgust",
          "disgust",
          "disgust",
          "disgust",
          "trust",
          "trust",
          "trust",
          "trust",
          "trust",
          "anger",
          "anger",
          "disgust",
          "disgust",
          "disgust",
          "disgust",
          "disgust",
          "disgust",
          "trust",
          "trust",
          "trust",
          "trust",
          "trust",
          "trust",
          "anger",
          "anger",
          "disgust",
          "disgust",
          "disgust",
          "disgust",
          "disgust",
          "trust",
          "trust",
          "trust",
          "trust",
          "trust",
          "trust",
          "trust",
          "anger",
          "anger",
          "disgust",
          "disgust",
          "disgust",
          "disgust",
          "disgust",
          "disgust",
          "disgust",
          "trust",
          "trust",
          "trust",
          "trust",
          "trust",
          "trust",
          "trust",
          "trust",
          "trust",
          "disgust",
          "disgust",
          "disgust",
          "disgust",
          "disgust",
          "disgust",
          "disgust",
          "disgust",
          "trust",
          "trust",
          "trust",
          "trust",
          "trust",
          "trust",
          "anger",
          "anger",
          "disgust",
          "disgust",
          "disgust",
          "trust",
          "trust",
          "trust",
          "trust",
          "trust",
          "trust",
          "trust",
          "trust",
          "disgust",
          "disgust",
          "disgust",
          "disgust",
          "disgust",
          "disgust",
          "trust",
          "trust",
          "trust",
          "trust",
          "trust",
          "trust",
          "trust",
          "trust",
          "trust",
          "trust",
          "trust",
          "trust",
          "trust",
          "trust",
          "trust",
          "trust",
          "trust",
          "trust",
          "trust",
          "trust",
          "trust",
          "trust",
          "trust",
          "trust",
          "trust",
          "trust",
          "trust",
          "trust",
          "trust",
          "trust",
          "joy",
          "joy",
          "joy",
          "joy",
          "joy",
          "joy",
          "joy",
          "joy",
          "joy",
          "joy",
          "joy",
          "joy",
          "joy",
          "joy",
          "joy",
          "joy",
          "joy",
          "joy",
          "joy",
          "joy",
          "joy",
          "joy",
          "joy",
          "joy",
          "joy",
          "joy",
          "joy",
          "joy",
          "joy",
          "joy",
          "joy",
          "joy",
          "joy",
          "joy",
          "joy",
          "joy",
          "joy",
          "joy",
          "joy",
          "joy",
          "joy",
          "joy",
          "joy",
          "joy",
          "joy",
          "joy",
          "joy",
          "joy",
          "joy",
          "joy",
          "joy",
          "joy",
          "joy",
          "joy",
          "joy",
          "joy",
          "joy",
          "joy",
          "joy",
          "joy",
          "joy",
          "joy",
          "joy",
          "joy",
          "joy",
          "joy",
          "joy",
          "joy",
          "joy",
          "joy",
          "joy",
          "joy",
          "joy",
          "joy",
          "joy",
          "joy",
          "joy",
          "trust",
          "trust",
          "trust",
          "joy",
          "joy",
          "joy",
          "joy",
          "joy",
          "joy",
          "joy",
          "trust",
          "trust",
          "trust",
          "joy",
          "joy",
          "joy",
          "joy",
          "joy",
          "joy",
          "joy",
          "trust",
          "trust",
          "trust",
          "joy",
          "joy",
          "joy",
          "joy",
          "joy",
          "joy",
          "joy",
          "trust",
          "trust",
          "trust",
          "trust",
          "trust",
          "trust",
          "joy",
          "joy",
          "joy",
          "joy",
          "joy",
          "joy",
          "joy",
          "trust",
          "trust",
          "trust",
          "joy",
          "joy",
          "joy",
          "joy",
          "joy",
          "joy",
          "joy",
          "trust",
          "trust",
          "trust",
          "joy",
          "joy",
          "joy",
          "joy",
          "joy",
          "joy",
          "joy",
          "trust",
          "trust",
          "trust",
          "joy",
          "joy",
          "joy",
          "joy",
          "joy",
          "joy",
          "joy",
          "trust",
          "trust",
          "trust",
          "joy",
          "joy",
          "joy",
          "joy",
          "joy",
          "joy",
          "joy",
          "trust",
          "trust",
          "trust",
          "joy",
          "joy",
          "joy",
          "joy",
          "joy",
          "joy",
          "joy"
         ],
         "xaxis": "x",
         "yaxis": "y"
        }
       ],
       "layout": {
        "barmode": "relative",
        "legend": {
         "title": {
          "text": "variable"
         },
         "tracegroupgap": 0
        },
        "margin": {
         "t": 60
        },
        "template": {
         "data": {
          "bar": [
           {
            "error_x": {
             "color": "#2a3f5f"
            },
            "error_y": {
             "color": "#2a3f5f"
            },
            "marker": {
             "line": {
              "color": "#E5ECF6",
              "width": 0.5
             },
             "pattern": {
              "fillmode": "overlay",
              "size": 10,
              "solidity": 0.2
             }
            },
            "type": "bar"
           }
          ],
          "barpolar": [
           {
            "marker": {
             "line": {
              "color": "#E5ECF6",
              "width": 0.5
             },
             "pattern": {
              "fillmode": "overlay",
              "size": 10,
              "solidity": 0.2
             }
            },
            "type": "barpolar"
           }
          ],
          "carpet": [
           {
            "aaxis": {
             "endlinecolor": "#2a3f5f",
             "gridcolor": "white",
             "linecolor": "white",
             "minorgridcolor": "white",
             "startlinecolor": "#2a3f5f"
            },
            "baxis": {
             "endlinecolor": "#2a3f5f",
             "gridcolor": "white",
             "linecolor": "white",
             "minorgridcolor": "white",
             "startlinecolor": "#2a3f5f"
            },
            "type": "carpet"
           }
          ],
          "choropleth": [
           {
            "colorbar": {
             "outlinewidth": 0,
             "ticks": ""
            },
            "type": "choropleth"
           }
          ],
          "contour": [
           {
            "colorbar": {
             "outlinewidth": 0,
             "ticks": ""
            },
            "colorscale": [
             [
              0,
              "#0d0887"
             ],
             [
              0.1111111111111111,
              "#46039f"
             ],
             [
              0.2222222222222222,
              "#7201a8"
             ],
             [
              0.3333333333333333,
              "#9c179e"
             ],
             [
              0.4444444444444444,
              "#bd3786"
             ],
             [
              0.5555555555555556,
              "#d8576b"
             ],
             [
              0.6666666666666666,
              "#ed7953"
             ],
             [
              0.7777777777777778,
              "#fb9f3a"
             ],
             [
              0.8888888888888888,
              "#fdca26"
             ],
             [
              1,
              "#f0f921"
             ]
            ],
            "type": "contour"
           }
          ],
          "contourcarpet": [
           {
            "colorbar": {
             "outlinewidth": 0,
             "ticks": ""
            },
            "type": "contourcarpet"
           }
          ],
          "heatmap": [
           {
            "colorbar": {
             "outlinewidth": 0,
             "ticks": ""
            },
            "colorscale": [
             [
              0,
              "#0d0887"
             ],
             [
              0.1111111111111111,
              "#46039f"
             ],
             [
              0.2222222222222222,
              "#7201a8"
             ],
             [
              0.3333333333333333,
              "#9c179e"
             ],
             [
              0.4444444444444444,
              "#bd3786"
             ],
             [
              0.5555555555555556,
              "#d8576b"
             ],
             [
              0.6666666666666666,
              "#ed7953"
             ],
             [
              0.7777777777777778,
              "#fb9f3a"
             ],
             [
              0.8888888888888888,
              "#fdca26"
             ],
             [
              1,
              "#f0f921"
             ]
            ],
            "type": "heatmap"
           }
          ],
          "heatmapgl": [
           {
            "colorbar": {
             "outlinewidth": 0,
             "ticks": ""
            },
            "colorscale": [
             [
              0,
              "#0d0887"
             ],
             [
              0.1111111111111111,
              "#46039f"
             ],
             [
              0.2222222222222222,
              "#7201a8"
             ],
             [
              0.3333333333333333,
              "#9c179e"
             ],
             [
              0.4444444444444444,
              "#bd3786"
             ],
             [
              0.5555555555555556,
              "#d8576b"
             ],
             [
              0.6666666666666666,
              "#ed7953"
             ],
             [
              0.7777777777777778,
              "#fb9f3a"
             ],
             [
              0.8888888888888888,
              "#fdca26"
             ],
             [
              1,
              "#f0f921"
             ]
            ],
            "type": "heatmapgl"
           }
          ],
          "histogram": [
           {
            "marker": {
             "pattern": {
              "fillmode": "overlay",
              "size": 10,
              "solidity": 0.2
             }
            },
            "type": "histogram"
           }
          ],
          "histogram2d": [
           {
            "colorbar": {
             "outlinewidth": 0,
             "ticks": ""
            },
            "colorscale": [
             [
              0,
              "#0d0887"
             ],
             [
              0.1111111111111111,
              "#46039f"
             ],
             [
              0.2222222222222222,
              "#7201a8"
             ],
             [
              0.3333333333333333,
              "#9c179e"
             ],
             [
              0.4444444444444444,
              "#bd3786"
             ],
             [
              0.5555555555555556,
              "#d8576b"
             ],
             [
              0.6666666666666666,
              "#ed7953"
             ],
             [
              0.7777777777777778,
              "#fb9f3a"
             ],
             [
              0.8888888888888888,
              "#fdca26"
             ],
             [
              1,
              "#f0f921"
             ]
            ],
            "type": "histogram2d"
           }
          ],
          "histogram2dcontour": [
           {
            "colorbar": {
             "outlinewidth": 0,
             "ticks": ""
            },
            "colorscale": [
             [
              0,
              "#0d0887"
             ],
             [
              0.1111111111111111,
              "#46039f"
             ],
             [
              0.2222222222222222,
              "#7201a8"
             ],
             [
              0.3333333333333333,
              "#9c179e"
             ],
             [
              0.4444444444444444,
              "#bd3786"
             ],
             [
              0.5555555555555556,
              "#d8576b"
             ],
             [
              0.6666666666666666,
              "#ed7953"
             ],
             [
              0.7777777777777778,
              "#fb9f3a"
             ],
             [
              0.8888888888888888,
              "#fdca26"
             ],
             [
              1,
              "#f0f921"
             ]
            ],
            "type": "histogram2dcontour"
           }
          ],
          "mesh3d": [
           {
            "colorbar": {
             "outlinewidth": 0,
             "ticks": ""
            },
            "type": "mesh3d"
           }
          ],
          "parcoords": [
           {
            "line": {
             "colorbar": {
              "outlinewidth": 0,
              "ticks": ""
             }
            },
            "type": "parcoords"
           }
          ],
          "pie": [
           {
            "automargin": true,
            "type": "pie"
           }
          ],
          "scatter": [
           {
            "fillpattern": {
             "fillmode": "overlay",
             "size": 10,
             "solidity": 0.2
            },
            "type": "scatter"
           }
          ],
          "scatter3d": [
           {
            "line": {
             "colorbar": {
              "outlinewidth": 0,
              "ticks": ""
             }
            },
            "marker": {
             "colorbar": {
              "outlinewidth": 0,
              "ticks": ""
             }
            },
            "type": "scatter3d"
           }
          ],
          "scattercarpet": [
           {
            "marker": {
             "colorbar": {
              "outlinewidth": 0,
              "ticks": ""
             }
            },
            "type": "scattercarpet"
           }
          ],
          "scattergeo": [
           {
            "marker": {
             "colorbar": {
              "outlinewidth": 0,
              "ticks": ""
             }
            },
            "type": "scattergeo"
           }
          ],
          "scattergl": [
           {
            "marker": {
             "colorbar": {
              "outlinewidth": 0,
              "ticks": ""
             }
            },
            "type": "scattergl"
           }
          ],
          "scattermapbox": [
           {
            "marker": {
             "colorbar": {
              "outlinewidth": 0,
              "ticks": ""
             }
            },
            "type": "scattermapbox"
           }
          ],
          "scatterpolar": [
           {
            "marker": {
             "colorbar": {
              "outlinewidth": 0,
              "ticks": ""
             }
            },
            "type": "scatterpolar"
           }
          ],
          "scatterpolargl": [
           {
            "marker": {
             "colorbar": {
              "outlinewidth": 0,
              "ticks": ""
             }
            },
            "type": "scatterpolargl"
           }
          ],
          "scatterternary": [
           {
            "marker": {
             "colorbar": {
              "outlinewidth": 0,
              "ticks": ""
             }
            },
            "type": "scatterternary"
           }
          ],
          "surface": [
           {
            "colorbar": {
             "outlinewidth": 0,
             "ticks": ""
            },
            "colorscale": [
             [
              0,
              "#0d0887"
             ],
             [
              0.1111111111111111,
              "#46039f"
             ],
             [
              0.2222222222222222,
              "#7201a8"
             ],
             [
              0.3333333333333333,
              "#9c179e"
             ],
             [
              0.4444444444444444,
              "#bd3786"
             ],
             [
              0.5555555555555556,
              "#d8576b"
             ],
             [
              0.6666666666666666,
              "#ed7953"
             ],
             [
              0.7777777777777778,
              "#fb9f3a"
             ],
             [
              0.8888888888888888,
              "#fdca26"
             ],
             [
              1,
              "#f0f921"
             ]
            ],
            "type": "surface"
           }
          ],
          "table": [
           {
            "cells": {
             "fill": {
              "color": "#EBF0F8"
             },
             "line": {
              "color": "white"
             }
            },
            "header": {
             "fill": {
              "color": "#C8D4E3"
             },
             "line": {
              "color": "white"
             }
            },
            "type": "table"
           }
          ]
         },
         "layout": {
          "annotationdefaults": {
           "arrowcolor": "#2a3f5f",
           "arrowhead": 0,
           "arrowwidth": 1
          },
          "autotypenumbers": "strict",
          "coloraxis": {
           "colorbar": {
            "outlinewidth": 0,
            "ticks": ""
           }
          },
          "colorscale": {
           "diverging": [
            [
             0,
             "#8e0152"
            ],
            [
             0.1,
             "#c51b7d"
            ],
            [
             0.2,
             "#de77ae"
            ],
            [
             0.3,
             "#f1b6da"
            ],
            [
             0.4,
             "#fde0ef"
            ],
            [
             0.5,
             "#f7f7f7"
            ],
            [
             0.6,
             "#e6f5d0"
            ],
            [
             0.7,
             "#b8e186"
            ],
            [
             0.8,
             "#7fbc41"
            ],
            [
             0.9,
             "#4d9221"
            ],
            [
             1,
             "#276419"
            ]
           ],
           "sequential": [
            [
             0,
             "#0d0887"
            ],
            [
             0.1111111111111111,
             "#46039f"
            ],
            [
             0.2222222222222222,
             "#7201a8"
            ],
            [
             0.3333333333333333,
             "#9c179e"
            ],
            [
             0.4444444444444444,
             "#bd3786"
            ],
            [
             0.5555555555555556,
             "#d8576b"
            ],
            [
             0.6666666666666666,
             "#ed7953"
            ],
            [
             0.7777777777777778,
             "#fb9f3a"
            ],
            [
             0.8888888888888888,
             "#fdca26"
            ],
            [
             1,
             "#f0f921"
            ]
           ],
           "sequentialminus": [
            [
             0,
             "#0d0887"
            ],
            [
             0.1111111111111111,
             "#46039f"
            ],
            [
             0.2222222222222222,
             "#7201a8"
            ],
            [
             0.3333333333333333,
             "#9c179e"
            ],
            [
             0.4444444444444444,
             "#bd3786"
            ],
            [
             0.5555555555555556,
             "#d8576b"
            ],
            [
             0.6666666666666666,
             "#ed7953"
            ],
            [
             0.7777777777777778,
             "#fb9f3a"
            ],
            [
             0.8888888888888888,
             "#fdca26"
            ],
            [
             1,
             "#f0f921"
            ]
           ]
          },
          "colorway": [
           "#636efa",
           "#EF553B",
           "#00cc96",
           "#ab63fa",
           "#FFA15A",
           "#19d3f3",
           "#FF6692",
           "#B6E880",
           "#FF97FF",
           "#FECB52"
          ],
          "font": {
           "color": "#2a3f5f"
          },
          "geo": {
           "bgcolor": "white",
           "lakecolor": "white",
           "landcolor": "#E5ECF6",
           "showlakes": true,
           "showland": true,
           "subunitcolor": "white"
          },
          "hoverlabel": {
           "align": "left"
          },
          "hovermode": "closest",
          "mapbox": {
           "style": "light"
          },
          "paper_bgcolor": "white",
          "plot_bgcolor": "#E5ECF6",
          "polar": {
           "angularaxis": {
            "gridcolor": "white",
            "linecolor": "white",
            "ticks": ""
           },
           "bgcolor": "#E5ECF6",
           "radialaxis": {
            "gridcolor": "white",
            "linecolor": "white",
            "ticks": ""
           }
          },
          "scene": {
           "xaxis": {
            "backgroundcolor": "#E5ECF6",
            "gridcolor": "white",
            "gridwidth": 2,
            "linecolor": "white",
            "showbackground": true,
            "ticks": "",
            "zerolinecolor": "white"
           },
           "yaxis": {
            "backgroundcolor": "#E5ECF6",
            "gridcolor": "white",
            "gridwidth": 2,
            "linecolor": "white",
            "showbackground": true,
            "ticks": "",
            "zerolinecolor": "white"
           },
           "zaxis": {
            "backgroundcolor": "#E5ECF6",
            "gridcolor": "white",
            "gridwidth": 2,
            "linecolor": "white",
            "showbackground": true,
            "ticks": "",
            "zerolinecolor": "white"
           }
          },
          "shapedefaults": {
           "line": {
            "color": "#2a3f5f"
           }
          },
          "ternary": {
           "aaxis": {
            "gridcolor": "white",
            "linecolor": "white",
            "ticks": ""
           },
           "baxis": {
            "gridcolor": "white",
            "linecolor": "white",
            "ticks": ""
           },
           "bgcolor": "#E5ECF6",
           "caxis": {
            "gridcolor": "white",
            "linecolor": "white",
            "ticks": ""
           }
          },
          "title": {
           "x": 0.05
          },
          "xaxis": {
           "automargin": true,
           "gridcolor": "white",
           "linecolor": "white",
           "ticks": "",
           "title": {
            "standoff": 15
           },
           "zerolinecolor": "white",
           "zerolinewidth": 2
          },
          "yaxis": {
           "automargin": true,
           "gridcolor": "white",
           "linecolor": "white",
           "ticks": "",
           "title": {
            "standoff": 15
           },
           "zerolinecolor": "white",
           "zerolinewidth": 2
          }
         }
        },
        "xaxis": {
         "anchor": "y",
         "domain": [
          0,
          1
         ],
         "title": {
          "text": "value"
         }
        },
        "yaxis": {
         "anchor": "x",
         "domain": [
          0,
          1
         ],
         "title": {
          "text": "count"
         }
        }
       }
      }
     },
     "metadata": {},
     "output_type": "display_data"
    }
   ],
   "source": [
    "new_explanation_data = json.load( open(os.path.join(SENTIMENT_DATA_DIR, \"train_formatted.json\"), \"r\")  )\n",
    "\n",
    "emotions = []\n",
    "for i in new_explanation_data:\n",
    "    emotions.append(i[\"choice\"])\n",
    "import plotly.express as px\n",
    "\n",
    "fig = px.histogram(emotions)\n",
    "fig.show()"
   ]
  },
  {
   "cell_type": "code",
   "execution_count": 188,
   "metadata": {},
   "outputs": [],
   "source": [
    "new_explanation_data = json.load( open(os.path.join(SENTIMENT_DATA_DIR, \"train_formatted.json\"), \"r\")  )"
   ]
  },
  {
   "cell_type": "code",
   "execution_count": 192,
   "metadata": {},
   "outputs": [
    {
     "data": {
      "text/plain": [
       "{'text': 'The team celebrated their hard-fought victory, jubilantly hoisting the championship trophy into the air as confetti rained down upon them, marking their triumphant season.',\n",
       " 'choice': 'joy',\n",
       " 'explanation': \"The exuberant celebration of the team's victory demonstrates a clear sense of joy and elation, highlighting the fulfillment and satisfaction of their hard work and dedication.\",\n",
       " 'id': 'generated'}"
      ]
     },
     "execution_count": 192,
     "metadata": {},
     "output_type": "execute_result"
    }
   ],
   "source": [
    "example"
   ]
  },
  {
   "cell_type": "code",
   "execution_count": 193,
   "metadata": {},
   "outputs": [],
   "source": [
    "for example in new_explanation_data:\n",
    "    if \"id\" not in example:\n",
    "        example[\"id\"] = \"generated\"\n",
    "    if example[\"id\"] != \"generated\": \n",
    "        continue\n",
    "    if \"generated_raw\" in example:\n",
    "        del example[\"generated_raw\"]\n",
    "    example[\"text\"] = example[\"text\"].replace(\"[TEXT]: \", \"\").strip()"
   ]
  },
  {
   "cell_type": "code",
   "execution_count": 197,
   "metadata": {},
   "outputs": [
    {
     "data": {
      "text/plain": [
       "{'id': '1198',\n",
       " 'choice': 'trust',\n",
       " 'explanation': ' The text conveys a sense of growing confidence in the sewage testing method, indicating trust in its effectiveness.',\n",
       " 'text': 'Epidemiologists found that testing sewage viral loads accurately predicts COVID-19 cases and hospitalizations, providing early warnings. The method is increasingly trusted.'}"
      ]
     },
     "execution_count": 197,
     "metadata": {},
     "output_type": "execute_result"
    }
   ],
   "source": [
    "new_explanation_data[0]"
   ]
  },
  {
   "cell_type": "code",
   "execution_count": 198,
   "metadata": {},
   "outputs": [],
   "source": [
    "cleaned_explanation_data = []\n",
    "\n",
    "fear_count = 0\n",
    "\n",
    "for i in new_explanation_data:\n",
    "    if i[\"choice\"] != \"fear\":\n",
    "        cleaned_explanation_data.append(i)\n",
    "    else:\n",
    "        if fear_count <= 200:\n",
    "            cleaned_explanation_data.append(i)\n",
    "            fear_count += 1\n",
    "        else:\n",
    "            continue"
   ]
  },
  {
   "cell_type": "code",
   "execution_count": 199,
   "metadata": {},
   "outputs": [
    {
     "data": {
      "application/vnd.plotly.v1+json": {
       "config": {
        "plotlyServerURL": "https://plot.ly"
       },
       "data": [
        {
         "alignmentgroup": "True",
         "bingroup": "x",
         "hovertemplate": "variable=0<br>value=%{x}<br>count=%{y}<extra></extra>",
         "legendgroup": "0",
         "marker": {
          "color": "#636efa",
          "pattern": {
           "shape": ""
          }
         },
         "name": "0",
         "offsetgroup": "0",
         "orientation": "v",
         "showlegend": true,
         "type": "histogram",
         "x": [
          "trust",
          "anger",
          "joy",
          "fear",
          "fear",
          "anger",
          "fear",
          "sadness",
          "fear",
          "fear",
          "fear",
          "sadness",
          "anger",
          "fear",
          "fear",
          "fear",
          "anticipation",
          "anticipation",
          "fear",
          "fear",
          "fear",
          "fear",
          "fear",
          "fear",
          "sadness",
          "anticipation",
          "fear",
          "anger",
          "fear",
          "sadness",
          "fear",
          "fear",
          "anger",
          "sadness",
          "fear",
          "sadness",
          "fear",
          "fear",
          "sadness",
          "joy",
          "anticipation",
          "fear",
          "sadness",
          "sadness",
          "sadness",
          "sadness",
          "anticipation",
          "fear",
          "trust",
          "anger",
          "joy",
          "fear",
          "fear",
          "anger",
          "fear",
          "sadness",
          "fear",
          "fear",
          "fear",
          "sadness",
          "anger",
          "fear",
          "fear",
          "fear",
          "anticipation",
          "anticipation",
          "fear",
          "fear",
          "fear",
          "fear",
          "fear",
          "fear",
          "sadness",
          "anticipation",
          "fear",
          "anger",
          "fear",
          "sadness",
          "fear",
          "fear",
          "anger",
          "sadness",
          "fear",
          "sadness",
          "fear",
          "fear",
          "sadness",
          "joy",
          "anticipation",
          "fear",
          "sadness",
          "sadness",
          "sadness",
          "sadness",
          "anticipation",
          "fear",
          "fear",
          "fear",
          "fear",
          "anger",
          "anger",
          "trust",
          "anticipation",
          "anticipation",
          "anticipation",
          "fear",
          "anger",
          "fear",
          "sadness",
          "joy",
          "fear",
          "anger",
          "anticipation",
          "fear",
          "joy",
          "anticipation",
          "anger",
          "fear",
          "sadness",
          "fear",
          "sadness",
          "fear",
          "anticipation",
          "sadness",
          "fear",
          "fear",
          "fear",
          "fear",
          "anger",
          "sadness",
          "fear",
          "sadness",
          "fear",
          "fear",
          "sadness",
          "fear",
          "anger",
          "anger",
          "fear",
          "anger",
          "anticipation",
          "fear",
          "sadness",
          "anticipation",
          "fear",
          "anticipation",
          "fear",
          "fear",
          "fear",
          "anger",
          "fear",
          "fear",
          "sadness",
          "anticipation",
          "disgust",
          "sadness",
          "fear",
          "fear",
          "anticipation",
          "fear",
          "fear",
          "sadness",
          "fear",
          "joy",
          "fear",
          "anticipation",
          "fear",
          "fear",
          "fear",
          "fear",
          "fear",
          "trust",
          "joy",
          "disgust",
          "fear",
          "anticipation",
          "fear",
          "fear",
          "anticipation",
          "fear",
          "anger",
          "fear",
          "disgust",
          "fear",
          "anticipation",
          "fear",
          "fear",
          "fear",
          "fear",
          "fear",
          "fear",
          "disgust",
          "sadness",
          "fear",
          "joy",
          "anticipation",
          "anticipation",
          "anticipation",
          "fear",
          "sadness",
          "fear",
          "fear",
          "fear",
          "sadness",
          "anticipation",
          "fear",
          "fear",
          "anger",
          "anticipation",
          "fear",
          "fear",
          "fear",
          "anger",
          "anticipation",
          "sadness",
          "sadness",
          "sadness",
          "fear",
          "fear",
          "anticipation",
          "fear",
          "fear",
          "sadness",
          "fear",
          "fear",
          "fear",
          "fear",
          "fear",
          "fear",
          "fear",
          "fear",
          "fear",
          "sadness",
          "sadness",
          "fear",
          "anticipation",
          "fear",
          "sadness",
          "anticipation",
          "fear",
          "sadness",
          "anticipation",
          "fear",
          "fear",
          "fear",
          "anger",
          "anticipation",
          "sadness",
          "joy",
          "sadness",
          "anger",
          "fear",
          "anticipation",
          "sadness",
          "fear",
          "sadness",
          "sadness",
          "fear",
          "anticipation",
          "fear",
          "fear",
          "fear",
          "sadness",
          "fear",
          "sadness",
          "fear",
          "fear",
          "fear",
          "sadness",
          "sadness",
          "fear",
          "fear",
          "fear",
          "fear",
          "fear",
          "anticipation",
          "fear",
          "fear",
          "fear",
          "anger",
          "anticipation",
          "sadness",
          "fear",
          "fear",
          "sadness",
          "anticipation",
          "fear",
          "fear",
          "fear",
          "sadness",
          "fear",
          "fear",
          "sadness",
          "disgust",
          "fear",
          "anticipation",
          "trust",
          "anticipation",
          "fear",
          "fear",
          "fear",
          "fear",
          "anticipation",
          "joy",
          "anticipation",
          "anticipation",
          "fear",
          "fear",
          "fear",
          "fear",
          "fear",
          "sadness",
          "sadness",
          "fear",
          "anger",
          "anticipation",
          "anticipation",
          "anticipation",
          "fear",
          "fear",
          "sadness",
          "fear",
          "fear",
          "anticipation",
          "fear",
          "sadness",
          "anticipation",
          "fear",
          "fear",
          "fear",
          "fear",
          "fear",
          "fear",
          "fear",
          "sadness",
          "sadness",
          "fear",
          "fear",
          "fear",
          "fear",
          "sadness",
          "anticipation",
          "sadness",
          "fear",
          "sadness",
          "sadness",
          "fear",
          "fear",
          "fear",
          "fear",
          "sadness",
          "sadness",
          "fear",
          "sadness",
          "fear",
          "fear",
          "fear",
          "fear",
          "sadness",
          "anger",
          "sadness",
          "fear",
          "fear",
          "fear",
          "fear",
          "anticipation",
          "fear",
          "fear",
          "sadness",
          "anger",
          "anticipation",
          "fear",
          "joy",
          "fear",
          "sadness",
          "fear",
          "anticipation",
          "fear",
          "fear",
          "anticipation",
          "fear",
          "fear",
          "anger",
          "anger",
          "disgust",
          "anticipation",
          "anger",
          "sadness",
          "anticipation",
          "anger",
          "joy",
          "sadness",
          "sadness",
          "anger",
          "anger",
          "sadness",
          "anticipation",
          "anger",
          "trust",
          "anger",
          "sadness",
          "sadness",
          "anticipation",
          "sadness",
          "anticipation",
          "sadness",
          "anger",
          "sadness",
          "sadness",
          "sadness",
          "anticipation",
          "sadness",
          "sadness",
          "trust",
          "anticipation",
          "anger",
          "sadness",
          "anticipation",
          "anticipation",
          "sadness",
          "sadness",
          "sadness",
          "sadness",
          "sadness",
          "anger",
          "sadness",
          "anticipation",
          "anticipation",
          "sadness",
          "anticipation",
          "trust",
          "sadness",
          "sadness",
          "sadness",
          "anticipation",
          "anger",
          "anticipation",
          "anticipation",
          "sadness",
          "anger",
          "anger",
          "anger",
          "sadness",
          "anticipation",
          "sadness",
          "sadness",
          "sadness",
          "anger",
          "sadness",
          "anticipation",
          "anticipation",
          "anger",
          "joy",
          "anger",
          "anticipation",
          "anticipation",
          "anticipation",
          "sadness",
          "anticipation",
          "trust",
          "sadness",
          "anticipation",
          "anticipation",
          "sadness",
          "sadness",
          "sadness",
          "anticipation",
          "sadness",
          "anticipation",
          "anger",
          "sadness",
          "sadness",
          "anger",
          "joy",
          "anger",
          "sadness",
          "sadness",
          "sadness",
          "anger",
          "anger",
          "sadness",
          "anticipation",
          "anticipation",
          "sadness",
          "anticipation",
          "sadness",
          "anticipation",
          "anticipation",
          "sadness",
          "anticipation",
          "sadness",
          "anger",
          "sadness",
          "anticipation",
          "anticipation",
          "anger",
          "anger",
          "anticipation",
          "anticipation",
          "sadness",
          "joy",
          "sadness",
          "anticipation",
          "joy",
          "anticipation",
          "sadness",
          "sadness",
          "anticipation",
          "sadness",
          "sadness",
          "sadness",
          "anger",
          "anger",
          "anticipation",
          "disgust",
          "anticipation",
          "joy",
          "anticipation",
          "joy",
          "anticipation",
          "anticipation",
          "sadness",
          "sadness",
          "sadness",
          "anticipation",
          "anticipation",
          "anger",
          "anticipation",
          "anticipation",
          "anticipation",
          "sadness",
          "sadness",
          "anticipation",
          "sadness",
          "anticipation",
          "anger",
          "anticipation",
          "sadness",
          "anticipation",
          "sadness",
          "anticipation",
          "trust",
          "anticipation",
          "sadness",
          "anger",
          "anger",
          "anticipation",
          "anger",
          "sadness",
          "sadness",
          "sadness",
          "sadness",
          "sadness",
          "anticipation",
          "anticipation",
          "sadness",
          "sadness",
          "anticipation",
          "anticipation",
          "anticipation",
          "joy",
          "joy",
          "joy",
          "joy",
          "joy",
          "joy",
          "joy",
          "joy",
          "joy",
          "joy",
          "joy",
          "joy",
          "joy",
          "joy",
          "joy",
          "joy",
          "joy",
          "joy",
          "joy",
          "joy",
          "joy",
          "disgust",
          "disgust",
          "disgust",
          "disgust",
          "disgust",
          "disgust",
          "disgust",
          "anger",
          "anger",
          "anger",
          "anger",
          "anger",
          "anger",
          "anger",
          "anger",
          "anger",
          "anger",
          "anger",
          "anger",
          "anger",
          "anger",
          "anger",
          "anger",
          "anger",
          "anger",
          "anger",
          "anger",
          "anger",
          "anger",
          "anger",
          "anger",
          "anger",
          "anger",
          "anger",
          "anger",
          "anger",
          "anger",
          "anger",
          "anger",
          "anger",
          "anger",
          "anger",
          "anger",
          "anger",
          "anger",
          "anger",
          "anger",
          "anger",
          "anger",
          "anger",
          "disgust",
          "disgust",
          "disgust",
          "disgust",
          "disgust",
          "disgust",
          "disgust",
          "disgust",
          "disgust",
          "disgust",
          "disgust",
          "disgust",
          "disgust",
          "disgust",
          "disgust",
          "disgust",
          "disgust",
          "disgust",
          "disgust",
          "disgust",
          "disgust",
          "disgust",
          "disgust",
          "disgust",
          "disgust",
          "disgust",
          "disgust",
          "disgust",
          "disgust",
          "disgust",
          "disgust",
          "disgust",
          "disgust",
          "disgust",
          "disgust",
          "disgust",
          "disgust",
          "disgust",
          "disgust",
          "disgust",
          "disgust",
          "disgust",
          "disgust",
          "disgust",
          "disgust",
          "disgust",
          "disgust",
          "disgust",
          "disgust",
          "disgust",
          "disgust",
          "disgust",
          "disgust",
          "disgust",
          "disgust",
          "disgust",
          "disgust",
          "disgust",
          "disgust",
          "disgust",
          "disgust",
          "disgust",
          "disgust",
          "disgust",
          "disgust",
          "disgust",
          "disgust",
          "disgust",
          "disgust",
          "disgust",
          "disgust",
          "disgust",
          "disgust",
          "disgust",
          "disgust",
          "disgust",
          "disgust",
          "disgust",
          "disgust",
          "disgust",
          "disgust",
          "disgust",
          "disgust",
          "disgust",
          "disgust",
          "disgust",
          "disgust",
          "disgust",
          "disgust",
          "disgust",
          "anger",
          "anger",
          "disgust",
          "disgust",
          "disgust",
          "disgust",
          "disgust",
          "disgust",
          "disgust",
          "trust",
          "trust",
          "trust",
          "trust",
          "trust",
          "trust",
          "trust",
          "trust",
          "trust",
          "anger",
          "anger",
          "disgust",
          "disgust",
          "disgust",
          "trust",
          "trust",
          "trust",
          "trust",
          "trust",
          "trust",
          "anger",
          "anger",
          "disgust",
          "disgust",
          "disgust",
          "disgust",
          "disgust",
          "trust",
          "trust",
          "trust",
          "trust",
          "trust",
          "trust",
          "trust",
          "anger",
          "trust",
          "trust",
          "trust",
          "trust",
          "trust",
          "trust",
          "anger",
          "anger",
          "disgust",
          "disgust",
          "disgust",
          "disgust",
          "disgust",
          "trust",
          "trust",
          "trust",
          "trust",
          "trust",
          "anger",
          "anger",
          "disgust",
          "disgust",
          "disgust",
          "disgust",
          "disgust",
          "disgust",
          "trust",
          "trust",
          "trust",
          "trust",
          "trust",
          "trust",
          "anger",
          "anger",
          "disgust",
          "disgust",
          "disgust",
          "disgust",
          "disgust",
          "trust",
          "trust",
          "trust",
          "trust",
          "trust",
          "trust",
          "trust",
          "anger",
          "anger",
          "disgust",
          "disgust",
          "disgust",
          "disgust",
          "disgust",
          "disgust",
          "disgust",
          "trust",
          "trust",
          "trust",
          "trust",
          "trust",
          "trust",
          "trust",
          "trust",
          "trust",
          "disgust",
          "disgust",
          "disgust",
          "disgust",
          "disgust",
          "disgust",
          "disgust",
          "disgust",
          "trust",
          "trust",
          "trust",
          "trust",
          "trust",
          "trust",
          "anger",
          "anger",
          "disgust",
          "disgust",
          "disgust",
          "trust",
          "trust",
          "trust",
          "trust",
          "trust",
          "trust",
          "trust",
          "trust",
          "disgust",
          "disgust",
          "disgust",
          "disgust",
          "disgust",
          "disgust",
          "trust",
          "trust",
          "trust",
          "trust",
          "trust",
          "trust",
          "trust",
          "trust",
          "trust",
          "trust",
          "trust",
          "trust",
          "trust",
          "trust",
          "trust",
          "trust",
          "trust",
          "trust",
          "trust",
          "trust",
          "trust",
          "trust",
          "trust",
          "trust",
          "trust",
          "trust",
          "trust",
          "trust",
          "trust",
          "trust",
          "joy",
          "joy",
          "joy",
          "joy",
          "joy",
          "joy",
          "joy",
          "joy",
          "joy",
          "joy",
          "joy",
          "joy",
          "joy",
          "joy",
          "joy",
          "joy",
          "joy",
          "joy",
          "joy",
          "joy",
          "joy",
          "joy",
          "joy",
          "joy",
          "joy",
          "joy",
          "joy",
          "joy",
          "joy",
          "joy",
          "joy",
          "joy",
          "joy",
          "joy",
          "joy",
          "joy",
          "joy",
          "joy",
          "joy",
          "joy",
          "joy",
          "joy",
          "joy",
          "joy",
          "joy",
          "joy",
          "joy",
          "joy",
          "joy",
          "joy",
          "joy",
          "joy",
          "joy",
          "joy",
          "joy",
          "joy",
          "joy",
          "joy",
          "joy",
          "joy",
          "joy",
          "joy",
          "joy",
          "joy",
          "joy",
          "joy",
          "joy",
          "joy",
          "joy",
          "joy",
          "joy",
          "joy",
          "joy",
          "joy",
          "joy",
          "joy",
          "joy",
          "trust",
          "trust",
          "trust",
          "joy",
          "joy",
          "joy",
          "joy",
          "joy",
          "joy",
          "joy",
          "trust",
          "trust",
          "trust",
          "joy",
          "joy",
          "joy",
          "joy",
          "joy",
          "joy",
          "joy",
          "trust",
          "trust",
          "trust",
          "joy",
          "joy",
          "joy",
          "joy",
          "joy",
          "joy",
          "joy",
          "trust",
          "trust",
          "trust",
          "trust",
          "trust",
          "trust",
          "joy",
          "joy",
          "joy",
          "joy",
          "joy",
          "joy",
          "joy",
          "trust",
          "trust",
          "trust",
          "joy",
          "joy",
          "joy",
          "joy",
          "joy",
          "joy",
          "joy",
          "trust",
          "trust",
          "trust",
          "joy",
          "joy",
          "joy",
          "joy",
          "joy",
          "joy",
          "joy",
          "trust",
          "trust",
          "trust",
          "joy",
          "joy",
          "joy",
          "joy",
          "joy",
          "joy",
          "joy",
          "trust",
          "trust",
          "trust",
          "joy",
          "joy",
          "joy",
          "joy",
          "joy",
          "joy",
          "joy",
          "trust",
          "trust",
          "trust",
          "joy",
          "joy",
          "joy",
          "joy",
          "joy",
          "joy",
          "joy"
         ],
         "xaxis": "x",
         "yaxis": "y"
        }
       ],
       "layout": {
        "barmode": "relative",
        "legend": {
         "title": {
          "text": "variable"
         },
         "tracegroupgap": 0
        },
        "margin": {
         "t": 60
        },
        "template": {
         "data": {
          "bar": [
           {
            "error_x": {
             "color": "#2a3f5f"
            },
            "error_y": {
             "color": "#2a3f5f"
            },
            "marker": {
             "line": {
              "color": "#E5ECF6",
              "width": 0.5
             },
             "pattern": {
              "fillmode": "overlay",
              "size": 10,
              "solidity": 0.2
             }
            },
            "type": "bar"
           }
          ],
          "barpolar": [
           {
            "marker": {
             "line": {
              "color": "#E5ECF6",
              "width": 0.5
             },
             "pattern": {
              "fillmode": "overlay",
              "size": 10,
              "solidity": 0.2
             }
            },
            "type": "barpolar"
           }
          ],
          "carpet": [
           {
            "aaxis": {
             "endlinecolor": "#2a3f5f",
             "gridcolor": "white",
             "linecolor": "white",
             "minorgridcolor": "white",
             "startlinecolor": "#2a3f5f"
            },
            "baxis": {
             "endlinecolor": "#2a3f5f",
             "gridcolor": "white",
             "linecolor": "white",
             "minorgridcolor": "white",
             "startlinecolor": "#2a3f5f"
            },
            "type": "carpet"
           }
          ],
          "choropleth": [
           {
            "colorbar": {
             "outlinewidth": 0,
             "ticks": ""
            },
            "type": "choropleth"
           }
          ],
          "contour": [
           {
            "colorbar": {
             "outlinewidth": 0,
             "ticks": ""
            },
            "colorscale": [
             [
              0,
              "#0d0887"
             ],
             [
              0.1111111111111111,
              "#46039f"
             ],
             [
              0.2222222222222222,
              "#7201a8"
             ],
             [
              0.3333333333333333,
              "#9c179e"
             ],
             [
              0.4444444444444444,
              "#bd3786"
             ],
             [
              0.5555555555555556,
              "#d8576b"
             ],
             [
              0.6666666666666666,
              "#ed7953"
             ],
             [
              0.7777777777777778,
              "#fb9f3a"
             ],
             [
              0.8888888888888888,
              "#fdca26"
             ],
             [
              1,
              "#f0f921"
             ]
            ],
            "type": "contour"
           }
          ],
          "contourcarpet": [
           {
            "colorbar": {
             "outlinewidth": 0,
             "ticks": ""
            },
            "type": "contourcarpet"
           }
          ],
          "heatmap": [
           {
            "colorbar": {
             "outlinewidth": 0,
             "ticks": ""
            },
            "colorscale": [
             [
              0,
              "#0d0887"
             ],
             [
              0.1111111111111111,
              "#46039f"
             ],
             [
              0.2222222222222222,
              "#7201a8"
             ],
             [
              0.3333333333333333,
              "#9c179e"
             ],
             [
              0.4444444444444444,
              "#bd3786"
             ],
             [
              0.5555555555555556,
              "#d8576b"
             ],
             [
              0.6666666666666666,
              "#ed7953"
             ],
             [
              0.7777777777777778,
              "#fb9f3a"
             ],
             [
              0.8888888888888888,
              "#fdca26"
             ],
             [
              1,
              "#f0f921"
             ]
            ],
            "type": "heatmap"
           }
          ],
          "heatmapgl": [
           {
            "colorbar": {
             "outlinewidth": 0,
             "ticks": ""
            },
            "colorscale": [
             [
              0,
              "#0d0887"
             ],
             [
              0.1111111111111111,
              "#46039f"
             ],
             [
              0.2222222222222222,
              "#7201a8"
             ],
             [
              0.3333333333333333,
              "#9c179e"
             ],
             [
              0.4444444444444444,
              "#bd3786"
             ],
             [
              0.5555555555555556,
              "#d8576b"
             ],
             [
              0.6666666666666666,
              "#ed7953"
             ],
             [
              0.7777777777777778,
              "#fb9f3a"
             ],
             [
              0.8888888888888888,
              "#fdca26"
             ],
             [
              1,
              "#f0f921"
             ]
            ],
            "type": "heatmapgl"
           }
          ],
          "histogram": [
           {
            "marker": {
             "pattern": {
              "fillmode": "overlay",
              "size": 10,
              "solidity": 0.2
             }
            },
            "type": "histogram"
           }
          ],
          "histogram2d": [
           {
            "colorbar": {
             "outlinewidth": 0,
             "ticks": ""
            },
            "colorscale": [
             [
              0,
              "#0d0887"
             ],
             [
              0.1111111111111111,
              "#46039f"
             ],
             [
              0.2222222222222222,
              "#7201a8"
             ],
             [
              0.3333333333333333,
              "#9c179e"
             ],
             [
              0.4444444444444444,
              "#bd3786"
             ],
             [
              0.5555555555555556,
              "#d8576b"
             ],
             [
              0.6666666666666666,
              "#ed7953"
             ],
             [
              0.7777777777777778,
              "#fb9f3a"
             ],
             [
              0.8888888888888888,
              "#fdca26"
             ],
             [
              1,
              "#f0f921"
             ]
            ],
            "type": "histogram2d"
           }
          ],
          "histogram2dcontour": [
           {
            "colorbar": {
             "outlinewidth": 0,
             "ticks": ""
            },
            "colorscale": [
             [
              0,
              "#0d0887"
             ],
             [
              0.1111111111111111,
              "#46039f"
             ],
             [
              0.2222222222222222,
              "#7201a8"
             ],
             [
              0.3333333333333333,
              "#9c179e"
             ],
             [
              0.4444444444444444,
              "#bd3786"
             ],
             [
              0.5555555555555556,
              "#d8576b"
             ],
             [
              0.6666666666666666,
              "#ed7953"
             ],
             [
              0.7777777777777778,
              "#fb9f3a"
             ],
             [
              0.8888888888888888,
              "#fdca26"
             ],
             [
              1,
              "#f0f921"
             ]
            ],
            "type": "histogram2dcontour"
           }
          ],
          "mesh3d": [
           {
            "colorbar": {
             "outlinewidth": 0,
             "ticks": ""
            },
            "type": "mesh3d"
           }
          ],
          "parcoords": [
           {
            "line": {
             "colorbar": {
              "outlinewidth": 0,
              "ticks": ""
             }
            },
            "type": "parcoords"
           }
          ],
          "pie": [
           {
            "automargin": true,
            "type": "pie"
           }
          ],
          "scatter": [
           {
            "fillpattern": {
             "fillmode": "overlay",
             "size": 10,
             "solidity": 0.2
            },
            "type": "scatter"
           }
          ],
          "scatter3d": [
           {
            "line": {
             "colorbar": {
              "outlinewidth": 0,
              "ticks": ""
             }
            },
            "marker": {
             "colorbar": {
              "outlinewidth": 0,
              "ticks": ""
             }
            },
            "type": "scatter3d"
           }
          ],
          "scattercarpet": [
           {
            "marker": {
             "colorbar": {
              "outlinewidth": 0,
              "ticks": ""
             }
            },
            "type": "scattercarpet"
           }
          ],
          "scattergeo": [
           {
            "marker": {
             "colorbar": {
              "outlinewidth": 0,
              "ticks": ""
             }
            },
            "type": "scattergeo"
           }
          ],
          "scattergl": [
           {
            "marker": {
             "colorbar": {
              "outlinewidth": 0,
              "ticks": ""
             }
            },
            "type": "scattergl"
           }
          ],
          "scattermapbox": [
           {
            "marker": {
             "colorbar": {
              "outlinewidth": 0,
              "ticks": ""
             }
            },
            "type": "scattermapbox"
           }
          ],
          "scatterpolar": [
           {
            "marker": {
             "colorbar": {
              "outlinewidth": 0,
              "ticks": ""
             }
            },
            "type": "scatterpolar"
           }
          ],
          "scatterpolargl": [
           {
            "marker": {
             "colorbar": {
              "outlinewidth": 0,
              "ticks": ""
             }
            },
            "type": "scatterpolargl"
           }
          ],
          "scatterternary": [
           {
            "marker": {
             "colorbar": {
              "outlinewidth": 0,
              "ticks": ""
             }
            },
            "type": "scatterternary"
           }
          ],
          "surface": [
           {
            "colorbar": {
             "outlinewidth": 0,
             "ticks": ""
            },
            "colorscale": [
             [
              0,
              "#0d0887"
             ],
             [
              0.1111111111111111,
              "#46039f"
             ],
             [
              0.2222222222222222,
              "#7201a8"
             ],
             [
              0.3333333333333333,
              "#9c179e"
             ],
             [
              0.4444444444444444,
              "#bd3786"
             ],
             [
              0.5555555555555556,
              "#d8576b"
             ],
             [
              0.6666666666666666,
              "#ed7953"
             ],
             [
              0.7777777777777778,
              "#fb9f3a"
             ],
             [
              0.8888888888888888,
              "#fdca26"
             ],
             [
              1,
              "#f0f921"
             ]
            ],
            "type": "surface"
           }
          ],
          "table": [
           {
            "cells": {
             "fill": {
              "color": "#EBF0F8"
             },
             "line": {
              "color": "white"
             }
            },
            "header": {
             "fill": {
              "color": "#C8D4E3"
             },
             "line": {
              "color": "white"
             }
            },
            "type": "table"
           }
          ]
         },
         "layout": {
          "annotationdefaults": {
           "arrowcolor": "#2a3f5f",
           "arrowhead": 0,
           "arrowwidth": 1
          },
          "autotypenumbers": "strict",
          "coloraxis": {
           "colorbar": {
            "outlinewidth": 0,
            "ticks": ""
           }
          },
          "colorscale": {
           "diverging": [
            [
             0,
             "#8e0152"
            ],
            [
             0.1,
             "#c51b7d"
            ],
            [
             0.2,
             "#de77ae"
            ],
            [
             0.3,
             "#f1b6da"
            ],
            [
             0.4,
             "#fde0ef"
            ],
            [
             0.5,
             "#f7f7f7"
            ],
            [
             0.6,
             "#e6f5d0"
            ],
            [
             0.7,
             "#b8e186"
            ],
            [
             0.8,
             "#7fbc41"
            ],
            [
             0.9,
             "#4d9221"
            ],
            [
             1,
             "#276419"
            ]
           ],
           "sequential": [
            [
             0,
             "#0d0887"
            ],
            [
             0.1111111111111111,
             "#46039f"
            ],
            [
             0.2222222222222222,
             "#7201a8"
            ],
            [
             0.3333333333333333,
             "#9c179e"
            ],
            [
             0.4444444444444444,
             "#bd3786"
            ],
            [
             0.5555555555555556,
             "#d8576b"
            ],
            [
             0.6666666666666666,
             "#ed7953"
            ],
            [
             0.7777777777777778,
             "#fb9f3a"
            ],
            [
             0.8888888888888888,
             "#fdca26"
            ],
            [
             1,
             "#f0f921"
            ]
           ],
           "sequentialminus": [
            [
             0,
             "#0d0887"
            ],
            [
             0.1111111111111111,
             "#46039f"
            ],
            [
             0.2222222222222222,
             "#7201a8"
            ],
            [
             0.3333333333333333,
             "#9c179e"
            ],
            [
             0.4444444444444444,
             "#bd3786"
            ],
            [
             0.5555555555555556,
             "#d8576b"
            ],
            [
             0.6666666666666666,
             "#ed7953"
            ],
            [
             0.7777777777777778,
             "#fb9f3a"
            ],
            [
             0.8888888888888888,
             "#fdca26"
            ],
            [
             1,
             "#f0f921"
            ]
           ]
          },
          "colorway": [
           "#636efa",
           "#EF553B",
           "#00cc96",
           "#ab63fa",
           "#FFA15A",
           "#19d3f3",
           "#FF6692",
           "#B6E880",
           "#FF97FF",
           "#FECB52"
          ],
          "font": {
           "color": "#2a3f5f"
          },
          "geo": {
           "bgcolor": "white",
           "lakecolor": "white",
           "landcolor": "#E5ECF6",
           "showlakes": true,
           "showland": true,
           "subunitcolor": "white"
          },
          "hoverlabel": {
           "align": "left"
          },
          "hovermode": "closest",
          "mapbox": {
           "style": "light"
          },
          "paper_bgcolor": "white",
          "plot_bgcolor": "#E5ECF6",
          "polar": {
           "angularaxis": {
            "gridcolor": "white",
            "linecolor": "white",
            "ticks": ""
           },
           "bgcolor": "#E5ECF6",
           "radialaxis": {
            "gridcolor": "white",
            "linecolor": "white",
            "ticks": ""
           }
          },
          "scene": {
           "xaxis": {
            "backgroundcolor": "#E5ECF6",
            "gridcolor": "white",
            "gridwidth": 2,
            "linecolor": "white",
            "showbackground": true,
            "ticks": "",
            "zerolinecolor": "white"
           },
           "yaxis": {
            "backgroundcolor": "#E5ECF6",
            "gridcolor": "white",
            "gridwidth": 2,
            "linecolor": "white",
            "showbackground": true,
            "ticks": "",
            "zerolinecolor": "white"
           },
           "zaxis": {
            "backgroundcolor": "#E5ECF6",
            "gridcolor": "white",
            "gridwidth": 2,
            "linecolor": "white",
            "showbackground": true,
            "ticks": "",
            "zerolinecolor": "white"
           }
          },
          "shapedefaults": {
           "line": {
            "color": "#2a3f5f"
           }
          },
          "ternary": {
           "aaxis": {
            "gridcolor": "white",
            "linecolor": "white",
            "ticks": ""
           },
           "baxis": {
            "gridcolor": "white",
            "linecolor": "white",
            "ticks": ""
           },
           "bgcolor": "#E5ECF6",
           "caxis": {
            "gridcolor": "white",
            "linecolor": "white",
            "ticks": ""
           }
          },
          "title": {
           "x": 0.05
          },
          "xaxis": {
           "automargin": true,
           "gridcolor": "white",
           "linecolor": "white",
           "ticks": "",
           "title": {
            "standoff": 15
           },
           "zerolinecolor": "white",
           "zerolinewidth": 2
          },
          "yaxis": {
           "automargin": true,
           "gridcolor": "white",
           "linecolor": "white",
           "ticks": "",
           "title": {
            "standoff": 15
           },
           "zerolinecolor": "white",
           "zerolinewidth": 2
          }
         }
        },
        "xaxis": {
         "anchor": "y",
         "domain": [
          0,
          1
         ],
         "title": {
          "text": "value"
         }
        },
        "yaxis": {
         "anchor": "x",
         "domain": [
          0,
          1
         ],
         "title": {
          "text": "count"
         }
        }
       }
      }
     },
     "metadata": {},
     "output_type": "display_data"
    }
   ],
   "source": [
    "emotions = []\n",
    "for i in cleaned_explanation_data:\n",
    "    emotions.append(i[\"choice\"])\n",
    "import plotly.express as px\n",
    "\n",
    "fig = px.histogram(emotions)\n",
    "fig.show()"
   ]
  },
  {
   "cell_type": "code",
   "execution_count": null,
   "metadata": {},
   "outputs": [],
   "source": [
    "json.dump(cleaned_explanation_data, fp=open(\"../data/sentiment_explanation/train_cleaned.json\", \"w\"),indent=4, default=set_default)"
   ]
  },
  {
   "cell_type": "code",
   "execution_count": 33,
   "metadata": {},
   "outputs": [],
   "source": [
    "sentiment_data = json.load( open(os.path.join(SENTIMENT_DATA_DIR, \"train.json\"), \"r\")  )\n",
    "\n",
    "summary_data = {}\n",
    "\n",
    "for id in sentiment_data:\n",
    "    example = dict()\n",
    "    text = sentiment_data[id][\"Reddit Post\"]\n",
    "    choices = [i[\"Emotion\"] for i in list(itertools.chain.from_iterable(list((sentiment_data[id][\"Annotations\"]).values())))]\n",
    "\n",
    "    example[\"text\"] = text\n",
    "    example[\"choices\"] = choices\n",
    "\n",
    "    summary_data[id] = example"
   ]
  },
  {
   "cell_type": "code",
   "execution_count": 34,
   "metadata": {},
   "outputs": [
    {
     "data": {
      "text/plain": [
       "{'text': 'Im suppose to get my first vaccination soon. Everyone else in my household and my mother is fully vaccinated. After doing a lot of research to questions I had regarding the vaccines I felt more comfortable finally booking to get one. It seemed like they are/were working. Lockdowns were being lifted, I saw online people doing things social and doctors celebrating etc. I avoid the news about covid for my mental health. Pretty much what I find out about the pandemic pops up on my feed. Now Im seeing so much conflicting information at the same time and Im confused and defeated. UK says pfizer vaccine is 88% effective against delta variant but is that only against hospitalizations? What about actually getting it and suffering? Israel says pfizer went from 64% to 39% . This may not be helpful but Ive recently read about a lot of people on reddit who are fully vaccinated getting covid - and what concerns me more is a lot of them are saying its kicking their ass. Why are they making it seem like on the news and in research that getting covid after vaccinated IF YOU DO is mild like sniffles? This is extremely concerning and Im feeling very discouraged and hopeless about this situation. I miss my family. So much has changed in my life since the pandemic started and I still dont see it going away any time soon. Even after Im vaccinated I still have to worry !? This truly fucking sucks.',\n",
       " 'choices': ['sadness', 'anger', 'fear', 'trust']}"
      ]
     },
     "execution_count": 34,
     "metadata": {},
     "output_type": "execute_result"
    }
   ],
   "source": [
    "summary_data[\"0\"]"
   ]
  },
  {
   "cell_type": "code",
   "execution_count": 35,
   "metadata": {},
   "outputs": [],
   "source": [
    "# Define prompt handler\n",
    "import openai\n",
    "import random\n",
    "\n",
    "\n",
    "class PromptHandler:\n",
    "    def __init__(self, api_key, prompt_template):\n",
    "        \"\"\" \"\"\"\n",
    "        openai.api_key = random.choice(api_key)\n",
    "        self.prompt_template = prompt_template\n",
    "        self.model = prompt_template[\"model\"]\n",
    "\n",
    "    def generate_summary(self, text):\n",
    "        \"\"\"\n",
    "        \"\"\"\n",
    "        prompt = \"\"\n",
    "        prompt += self.prompt_template[\"instruction\"] + \"\\n\"\n",
    "        prompt += text\n",
    "\n",
    "        summary = openai.ChatCompletion.create(model=self.model,messages=[{\"role\": \"system\", \"content\": \"\"},\n",
    "                                                                            {\"role\": \"user\", \"content\": prompt},],\n",
    "                                                                            temperature=0,\n",
    "                                                                            top_p=1,\n",
    "                                                                            frequency_penalty=0,\n",
    "                                                                            presence_penalty=0,).choices[0].message.content\n",
    "\n",
    "        return summary\n",
    "    \n",
    "    def generate_explanation(self, example):\n",
    "        \"\"\"\n",
    "        \"\"\"\n",
    "        prompt = \"\"\n",
    "        prompt += self.prompt_template[\"instruction\"] + \"\\n\"\n",
    "        prompt += \"[TEXT]: \" + example[\"text\"] + \"\\n\"\n",
    "        prompt += \"[CHOICES]: \" + \", \".join(example[\"choices\"]) + \"\\n\"\n",
    "        prompt += \"[CHOICE]: \\n + [EXPLANATION]: \"\n",
    "\n",
    "        choice, explanation = openai.ChatCompletion.create(model=self.model,messages=[{\"role\": \"system\", \"content\": \"\"},\n",
    "                                                                            {\"role\": \"user\", \"content\": prompt},],\n",
    "                                                                            temperature=0,\n",
    "                                                                            top_p=1,\n",
    "                                                                            frequency_penalty=0,\n",
    "                                                                            presence_penalty=0,).choices[0].message.content.split(\"[EXPLANATION]:\")\n",
    "\n",
    "        return choice, explanation"
   ]
  },
  {
   "cell_type": "code",
   "execution_count": 36,
   "metadata": {},
   "outputs": [],
   "source": [
    "keys = json.load(open(\"../prompting/openai_keys.json\", \"r\"))\n",
    "\n",
    "prompt_template = json.load(open(\"../prompting/sentiment_explanation/generate_summaries.json\", \"r\"))\n",
    "model = PromptHandler(keys, prompt_template)"
   ]
  },
  {
   "cell_type": "code",
   "execution_count": 38,
   "metadata": {},
   "outputs": [],
   "source": [
    "output = model.generate_summary(summary_data[\"0\"][\"text\"])"
   ]
  },
  {
   "cell_type": "code",
   "execution_count": 39,
   "metadata": {},
   "outputs": [
    {
     "data": {
      "text/plain": [
       "\"I'm about to get my first vaccination, feeling more comfortable after research, but now confused and defeated by conflicting information about vaccine effectiveness and breakthrough cases.\""
      ]
     },
     "execution_count": 39,
     "metadata": {},
     "output_type": "execute_result"
    }
   ],
   "source": [
    "output"
   ]
  },
  {
   "cell_type": "code",
   "execution_count": 175,
   "metadata": {},
   "outputs": [],
   "source": [
    "import os, json\n",
    "\n",
    "combined_data = []\n",
    "for file in os.listdir(\"../data/sentiment_explanation/\"):\n",
    "    if \"process_id\" in file:\n",
    "        filename = os.path.join(\"../data/sentiment_explanation/\", file)\n",
    "        data = json.load( open(filename, \"r\")  )\n",
    "        new_data = []\n",
    "\n",
    "        for example in data:\n",
    "            new_example = {}\n",
    "            new_text = example[\"text\"].split(\"[TEXT]:\")[-1]\n",
    "            new_example[\"text\"] = new_text.strip()\n",
    "            new_example[\"choice\"] = example[\"choice\"]\n",
    "            new_example[\"explanation\"] = example[\"explanation\"].strip()\n",
    "            new_data.append(new_example)\n",
    "\n",
    "        combined_data += new_data"
   ]
  },
  {
   "cell_type": "code",
   "execution_count": 176,
   "metadata": {},
   "outputs": [
    {
     "data": {
      "text/plain": [
       "100"
      ]
     },
     "execution_count": 176,
     "metadata": {},
     "output_type": "execute_result"
    }
   ],
   "source": [
    "len(combined_data)"
   ]
  },
  {
   "cell_type": "code",
   "execution_count": 170,
   "metadata": {},
   "outputs": [],
   "source": [
    "json.dump(combined_data, fp=open(\"check.json\", \"w\"),indent=4, default=set_default)"
   ]
  },
  {
   "cell_type": "code",
   "execution_count": 128,
   "metadata": {},
   "outputs": [],
   "source": [
    "old_data = json.load(open(\"../data/sentiment_explanation/train_formatted.json\", \"r\"))\n",
    "json.dump(old_data + combined_data, fp=open(\"../data/sentiment_explanation/train_formatted.json\", \"w\"),indent=4, default=set_default)"
   ]
  },
  {
   "cell_type": "code",
   "execution_count": 133,
   "metadata": {},
   "outputs": [],
   "source": [
    "generated_data = json.load(open(\"check.json\", \"r\"))"
   ]
  },
  {
   "cell_type": "code",
   "execution_count": 148,
   "metadata": {},
   "outputs": [
    {
     "data": {
      "text/plain": [
       "{'a',\n",
       " 'as',\n",
       " 'environment',\n",
       " 'grass.',\n",
       " 'group',\n",
       " 'i',\n",
       " 'littering',\n",
       " 'of',\n",
       " 'park,',\n",
       " 'people',\n",
       " 'sight',\n",
       " 'such',\n",
       " 'the',\n",
       " 'their',\n",
       " 'through',\n",
       " 'walked'}"
      ]
     },
     "execution_count": 148,
     "metadata": {},
     "output_type": "execute_result"
    }
   ],
   "source": [
    "set(generated_data[2][\"text\"].lower().split()).intersection(set(generated_data[65][\"text\"].lower().split()))"
   ]
  },
  {
   "cell_type": "code",
   "execution_count": 162,
   "metadata": {},
   "outputs": [],
   "source": [
    "from nltk.corpus import stopwords\n",
    "\n",
    "stopword_list = stopwords.words(\"english\")"
   ]
  },
  {
   "cell_type": "code",
   "execution_count": 180,
   "metadata": {},
   "outputs": [
    {
     "name": "stdout",
     "output_type": "stream",
     "text": [
      "['entire', 'family', 'gathered', 'together', 'weekend', 'retreat', 'mountains.', 'laughter,', 'storytelling,', 'bonding', 'moments', 'created', 'cherished', 'memories', 'last', 'lifetime.']\n",
      "['new', 'vr', 'headset', 'arrived', 'today!', \"can't\", 'wait', 'immerse', 'virtual', 'worlds', 'explore', 'new', 'experiences.']\n",
      "['entire', 'family', 'gathered', 'together', 'weekend', 'retreat', 'mountains.', 'laughter,', 'storytelling,', 'bonding', 'moments', 'created', 'cherished', 'memories', 'last', 'lifetime.']\n",
      "['got', 'latest', 'smartphone', 'model', 'features', 'amazing!', 'camera', 'quality', 'outstanding,', 'new', 'apps', 'much', 'fun', 'use.']\n"
     ]
    },
    {
     "ename": "KeyboardInterrupt",
     "evalue": "Interrupted by user",
     "output_type": "error",
     "traceback": [
      "\u001b[0;31m---------------------------------------------------------------------------\u001b[0m",
      "\u001b[0;31mKeyboardInterrupt\u001b[0m                         Traceback (most recent call last)",
      "\u001b[1;32m/media/edward/67F8A3FE4DF9586B/ACADEMICS/2023_FALL/COMS 6998 - Natural Language Generation Summarization/project/cross-lingual_explanation/code/notebooks/data_analysis.ipynb Cell 23\u001b[0m line \u001b[0;36m1\n\u001b[1;32m      <a href='vscode-notebook-cell:/media/edward/67F8A3FE4DF9586B/ACADEMICS/2023_FALL/COMS%206998%20-%20Natural%20Language%20Generation%20Summarization/project/cross-lingual_explanation/code/notebooks/data_analysis.ipynb#X42sZmlsZQ%3D%3D?line=8'>9</a>\u001b[0m \u001b[39mprint\u001b[39m(text_1)\n\u001b[1;32m     <a href='vscode-notebook-cell:/media/edward/67F8A3FE4DF9586B/ACADEMICS/2023_FALL/COMS%206998%20-%20Natural%20Language%20Generation%20Summarization/project/cross-lingual_explanation/code/notebooks/data_analysis.ipynb#X42sZmlsZQ%3D%3D?line=9'>10</a>\u001b[0m \u001b[39mprint\u001b[39m(text_2)\n\u001b[0;32m---> <a href='vscode-notebook-cell:/media/edward/67F8A3FE4DF9586B/ACADEMICS/2023_FALL/COMS%206998%20-%20Natural%20Language%20Generation%20Summarization/project/cross-lingual_explanation/code/notebooks/data_analysis.ipynb#X42sZmlsZQ%3D%3D?line=10'>11</a>\u001b[0m \u001b[39minput\u001b[39;49m()\n\u001b[1;32m     <a href='vscode-notebook-cell:/media/edward/67F8A3FE4DF9586B/ACADEMICS/2023_FALL/COMS%206998%20-%20Natural%20Language%20Generation%20Summarization/project/cross-lingual_explanation/code/notebooks/data_analysis.ipynb#X42sZmlsZQ%3D%3D?line=12'>13</a>\u001b[0m \u001b[39mif\u001b[39;00m \u001b[39mlen\u001b[39m(\u001b[39mset\u001b[39m(text_1)\u001b[39m.\u001b[39mintersection(\u001b[39mset\u001b[39m(text_2))) \u001b[39m>\u001b[39m \u001b[39m5\u001b[39m:\n\u001b[1;32m     <a href='vscode-notebook-cell:/media/edward/67F8A3FE4DF9586B/ACADEMICS/2023_FALL/COMS%206998%20-%20Natural%20Language%20Generation%20Summarization/project/cross-lingual_explanation/code/notebooks/data_analysis.ipynb#X42sZmlsZQ%3D%3D?line=13'>14</a>\u001b[0m     \u001b[39mtry\u001b[39;00m:\n",
      "File \u001b[0;32m~/.local/lib/python3.10/site-packages/ipykernel/kernelbase.py:1202\u001b[0m, in \u001b[0;36mKernel.raw_input\u001b[0;34m(self, prompt)\u001b[0m\n\u001b[1;32m   1200\u001b[0m     msg \u001b[39m=\u001b[39m \u001b[39m\"\u001b[39m\u001b[39mraw_input was called, but this frontend does not support input requests.\u001b[39m\u001b[39m\"\u001b[39m\n\u001b[1;32m   1201\u001b[0m     \u001b[39mraise\u001b[39;00m StdinNotImplementedError(msg)\n\u001b[0;32m-> 1202\u001b[0m \u001b[39mreturn\u001b[39;00m \u001b[39mself\u001b[39;49m\u001b[39m.\u001b[39;49m_input_request(\n\u001b[1;32m   1203\u001b[0m     \u001b[39mstr\u001b[39;49m(prompt),\n\u001b[1;32m   1204\u001b[0m     \u001b[39mself\u001b[39;49m\u001b[39m.\u001b[39;49m_parent_ident[\u001b[39m\"\u001b[39;49m\u001b[39mshell\u001b[39;49m\u001b[39m\"\u001b[39;49m],\n\u001b[1;32m   1205\u001b[0m     \u001b[39mself\u001b[39;49m\u001b[39m.\u001b[39;49mget_parent(\u001b[39m\"\u001b[39;49m\u001b[39mshell\u001b[39;49m\u001b[39m\"\u001b[39;49m),\n\u001b[1;32m   1206\u001b[0m     password\u001b[39m=\u001b[39;49m\u001b[39mFalse\u001b[39;49;00m,\n\u001b[1;32m   1207\u001b[0m )\n",
      "File \u001b[0;32m~/.local/lib/python3.10/site-packages/ipykernel/kernelbase.py:1245\u001b[0m, in \u001b[0;36mKernel._input_request\u001b[0;34m(self, prompt, ident, parent, password)\u001b[0m\n\u001b[1;32m   1242\u001b[0m \u001b[39mexcept\u001b[39;00m \u001b[39mKeyboardInterrupt\u001b[39;00m:\n\u001b[1;32m   1243\u001b[0m     \u001b[39m# re-raise KeyboardInterrupt, to truncate traceback\u001b[39;00m\n\u001b[1;32m   1244\u001b[0m     msg \u001b[39m=\u001b[39m \u001b[39m\"\u001b[39m\u001b[39mInterrupted by user\u001b[39m\u001b[39m\"\u001b[39m\n\u001b[0;32m-> 1245\u001b[0m     \u001b[39mraise\u001b[39;00m \u001b[39mKeyboardInterrupt\u001b[39;00m(msg) \u001b[39mfrom\u001b[39;00m \u001b[39mNone\u001b[39;00m\n\u001b[1;32m   1246\u001b[0m \u001b[39mexcept\u001b[39;00m \u001b[39mException\u001b[39;00m:\n\u001b[1;32m   1247\u001b[0m     \u001b[39mself\u001b[39m\u001b[39m.\u001b[39mlog\u001b[39m.\u001b[39mwarning(\u001b[39m\"\u001b[39m\u001b[39mInvalid Message:\u001b[39m\u001b[39m\"\u001b[39m, exc_info\u001b[39m=\u001b[39m\u001b[39mTrue\u001b[39;00m)\n",
      "\u001b[0;31mKeyboardInterrupt\u001b[0m: Interrupted by user"
     ]
    }
   ],
   "source": [
    "extracted_data = list(combined_data)\n",
    "\n",
    "for index, example in enumerate(combined_data):\n",
    "    for other_index, other_example in enumerate(combined_data):\n",
    "        if index != other_index:\n",
    "            text_1 = [i for i in example[\"text\"].lower().split() if i not in stopword_list]\n",
    "            text_2 = [i for i in other_example[\"text\"].lower().split() if i not in stopword_list]\n",
    "\n",
    "            print(text_1)\n",
    "            print(text_2)\n",
    "            input()\n",
    "\n",
    "            if len(set(text_1).intersection(set(text_2))) > 5:\n",
    "                try:\n",
    "                    extracted_data.remove(other_example)\n",
    "                except ValueError:\n",
    "                    continue"
   ]
  },
  {
   "cell_type": "code",
   "execution_count": 181,
   "metadata": {},
   "outputs": [],
   "source": [
    "json.dump(extracted_data, fp=open(\"extracted_data.json\", \"w\"),indent=4, default=set_default)"
   ]
  },
  {
   "cell_type": "code",
   "execution_count": 178,
   "metadata": {},
   "outputs": [
    {
     "data": {
      "text/plain": [
       "(100, 61)"
      ]
     },
     "execution_count": 178,
     "metadata": {},
     "output_type": "execute_result"
    }
   ],
   "source": [
    "len(combined_data), len(extracted_data)"
   ]
  }
 ],
 "metadata": {
  "kernelspec": {
   "display_name": "Python 3",
   "language": "python",
   "name": "python3"
  },
  "language_info": {
   "codemirror_mode": {
    "name": "ipython",
    "version": 3
   },
   "file_extension": ".py",
   "mimetype": "text/x-python",
   "name": "python",
   "nbconvert_exporter": "python",
   "pygments_lexer": "ipython3",
   "version": "3.10.12"
  }
 },
 "nbformat": 4,
 "nbformat_minor": 2
}
