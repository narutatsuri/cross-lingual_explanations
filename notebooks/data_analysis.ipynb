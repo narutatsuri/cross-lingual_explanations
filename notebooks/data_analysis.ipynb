{
 "cells": [
  {
   "cell_type": "code",
   "execution_count": 1,
   "metadata": {},
   "outputs": [],
   "source": [
    "import json\n",
    "import sys\n",
    "import random\n",
    "import plotly.express as px\n",
    "sys.path.append('../src/')\n",
    "from utils import *\n",
    "from nltk.corpus import stopwords\n",
    "\n",
    "stopword_list = stopwords.words(\"english\")"
   ]
  },
  {
   "cell_type": "code",
   "execution_count": 2,
   "metadata": {},
   "outputs": [],
   "source": [
    "data = json.load(open(\"../data/lang=en-data=full.json\", \"r\"))\n",
    "data_en = json.load(open(\"../data/lang=en-data=split_en.json\", \"r\"))"
   ]
  },
  {
   "cell_type": "code",
   "execution_count": 6,
   "metadata": {},
   "outputs": [],
   "source": [
    "def get_emotion_counts(data):\n",
    "    emotion_counts = {}\n",
    "    for emotion in plutchik:\n",
    "        emotion_counts[emotion] = 0\n",
    "    for example in data:\n",
    "        emotion_counts[example[\"choice\"]] += 1\n",
    "    \n",
    "    return emotion_counts"
   ]
  },
  {
   "cell_type": "code",
   "execution_count": 7,
   "metadata": {},
   "outputs": [
    {
     "data": {
      "text/plain": [
       "{'anger': 362,\n",
       " 'fear': 351,\n",
       " 'sadness': 347,\n",
       " 'disgust': 325,\n",
       " 'anticipation': 375,\n",
       " 'trust': 360,\n",
       " 'joy': 353}"
      ]
     },
     "execution_count": 7,
     "metadata": {},
     "output_type": "execute_result"
    }
   ],
   "source": [
    "get_emotion_counts(data_en)"
   ]
  },
  {
   "cell_type": "code",
   "execution_count": 10,
   "metadata": {},
   "outputs": [],
   "source": [
    "data_ja = [i for i in data if i not in data_en]"
   ]
  },
  {
   "cell_type": "code",
   "execution_count": 18,
   "metadata": {},
   "outputs": [
    {
     "name": "stdout",
     "output_type": "stream",
     "text": [
      "\\begin{tabular}{lrrrrrrr}\n",
      "\\toprule\n",
      "{} &  anger &  fear &  sadness &  disgust &  anticipation &  trust &  joy \\\\\n",
      "\\midrule\n",
      "0 &    708 &   704 &      702 &      707 &           709 &    707 &  709 \\\\\n",
      "\\bottomrule\n",
      "\\end{tabular}\n",
      "\n"
     ]
    }
   ],
   "source": [
    "print(pd.DataFrame(get_emotion_counts(data), index=[0]).to_latex())"
   ]
  },
  {
   "cell_type": "code",
   "execution_count": null,
   "metadata": {},
   "outputs": [],
   "source": [
    "# Remove examples that are very similar\n",
    "extracted_data = list(full_data)\n",
    "\n",
    "for index, example in enumerate(full_data):\n",
    "    for other_index, other_example in enumerate(full_data):\n",
    "        if index != other_index:\n",
    "            text_1 = [i for i in example[\"text\"].lower().split() if i not in stopword_list]\n",
    "            text_2 = [i for i in other_example[\"text\"].lower().split() if i not in stopword_list]\n",
    "\n",
    "            if len(set(text_1).intersection(set(text_2))) > 5:\n",
    "                try:\n",
    "                    extracted_data.remove(other_example)\n",
    "                except ValueError:\n",
    "                    continue"
   ]
  },
  {
   "cell_type": "code",
   "execution_count": 14,
   "metadata": {},
   "outputs": [],
   "source": [
    "full_data_split_1 = random.sample(full_data, int(len(full_data)/2))\n",
    "full_data_split_2 = [item for item in full_data if item not in full_data_split_1]"
   ]
  },
  {
   "cell_type": "code",
   "execution_count": 19,
   "metadata": {},
   "outputs": [
    {
     "data": {
      "text/plain": [
       "{'text': \"The recent increase in backlash and hostility towards gender equality movements is unsettling; it's disheartening to witness such resistance and animosity towards progress.\",\n",
       " 'choice': 'fear',\n",
       " 'explanation': ' The text conveys a strong sense of fear and unease regarding the recent backlash and hostility towards gender equality movements. The use of words like \"unsettling,\" \"disheartening,\" and \"animosity towards progress\" reflects the sentiment of fear towards the opposition and resistance faced by the movement.',\n",
       " 'id': 'generated'}"
      ]
     },
     "execution_count": 19,
     "metadata": {},
     "output_type": "execute_result"
    }
   ],
   "source": [
    "full_data_split_2[10]"
   ]
  }
 ],
 "metadata": {
  "kernelspec": {
   "display_name": "Python 3",
   "language": "python",
   "name": "python3"
  },
  "language_info": {
   "codemirror_mode": {
    "name": "ipython",
    "version": 3
   },
   "file_extension": ".py",
   "mimetype": "text/x-python",
   "name": "python",
   "nbconvert_exporter": "python",
   "pygments_lexer": "ipython3",
   "version": "3.7.8"
  }
 },
 "nbformat": 4,
 "nbformat_minor": 2
}
